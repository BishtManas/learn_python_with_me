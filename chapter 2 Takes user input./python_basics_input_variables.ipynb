{
 "cells": [
  {
   "cell_type": "markdown",
   "id": "5f991f8d",
   "metadata": {},
   "source": [
    "# 🐍 Python Basics: Input and Variables\n",
    "\n",
    "Welcome! 👋 Let's explore how we can take user input, work with different data types, and understand variables in Python.\n",
    "\n",
    "This is **super beginner-friendly**. Think of it like you're learning to talk to Python — you say something, and Python responds!"
   ]
  },
  {
   "cell_type": "code",
   "execution_count": 1,
   "id": "057d9949",
   "metadata": {},
   "outputs": [
    {
     "name": "stdout",
     "output_type": "stream",
     "text": [
      "Hello manas\n"
     ]
    }
   ],
   "source": [
    "# 💬 Example 1: Taking a simple input\n",
    "name = input(\"What is your name? \")  # input() takes string input from user\n",
    "print(\"Hello\", name)  # Output: Hello <name>"
   ]
  },
  {
   "cell_type": "markdown",
   "id": "0ef30a9b",
   "metadata": {},
   "source": [
    "## 🧠 Key Concept:\n",
    "- `input()` always gives us **text** (called a `string` in Python), even if we type a number.\n",
    "- We use it to ask the user something and get their answer."
   ]
  },
  {
   "cell_type": "code",
   "execution_count": 2,
   "id": "b57434db",
   "metadata": {},
   "outputs": [
    {
     "name": "stdout",
     "output_type": "stream",
     "text": [
      "Your age is: 12\n"
     ]
    }
   ],
   "source": [
    "# 💬 Example 2: Taking integer input\n",
    "age = int(input(\"Enter your age: \"))  # Converts input string to integer\n",
    "print(\"Your age is:\", age)"
   ]
  },
  {
   "cell_type": "code",
   "execution_count": 3,
   "id": "c27a9bf5",
   "metadata": {},
   "outputs": [
    {
     "name": "stdout",
     "output_type": "stream",
     "text": [
      "Your height is: 174.0 cm\n"
     ]
    }
   ],
   "source": [
    "# 💬 Example 3: Taking float input (decimal)\n",
    "height = float(input(\"Enter your height in cm: \"))  # Converts input to float\n",
    "print(\"Your height is:\", height, \"cm\")"
   ]
  },
  {
   "cell_type": "markdown",
   "id": "8ce00101",
   "metadata": {},
   "source": [
    "# 🔢 Variable Types (Data Types)\n",
    "\n",
    "Python automatically understands what type of value you are using.\n",
    "\n",
    "Let's see a few examples."
   ]
  },
  {
   "cell_type": "code",
   "execution_count": 4,
   "id": "3e3a6283",
   "metadata": {},
   "outputs": [
    {
     "name": "stdout",
     "output_type": "stream",
     "text": [
      "Number of apples: 5\n",
      "Data type of num_apples: <class 'int'>\n"
     ]
    }
   ],
   "source": [
    "# 💡 Integers\n",
    "num_apples = 5\n",
    "print(\"Number of apples:\", num_apples)\n",
    "print(\"Data type of num_apples:\", type(num_apples))"
   ]
  },
  {
   "cell_type": "code",
   "execution_count": 5,
   "id": "69dbb292",
   "metadata": {},
   "outputs": [
    {
     "name": "stdout",
     "output_type": "stream",
     "text": [
      "Price: 49.99\n",
      "Data type of price: <class 'float'>\n"
     ]
    }
   ],
   "source": [
    "# 💡 Floats (decimal numbers)\n",
    "price = 49.99\n",
    "print(\"Price:\", price)\n",
    "print(\"Data type of price:\", type(price))"
   ]
  },
  {
   "cell_type": "code",
   "execution_count": 6,
   "id": "b98a9bdd",
   "metadata": {},
   "outputs": [
    {
     "name": "stdout",
     "output_type": "stream",
     "text": [
      "Message: Good Morning!\n",
      "Data type of greeting: <class 'str'>\n"
     ]
    }
   ],
   "source": [
    "# 💡 Strings (text)\n",
    "greeting = \"Good Morning!\"\n",
    "print(\"Message:\", greeting)\n",
    "print(\"Data type of greeting:\", type(greeting))"
   ]
  }
 ],
 "metadata": {
  "kernelspec": {
   "display_name": "Python 3",
   "language": "python",
   "name": "python3"
  },
  "language_info": {
   "codemirror_mode": {
    "name": "ipython",
    "version": 3
   },
   "file_extension": ".py",
   "mimetype": "text/x-python",
   "name": "python",
   "nbconvert_exporter": "python",
   "pygments_lexer": "ipython3",
   "version": "3.13.3"
  }
 },
 "nbformat": 4,
 "nbformat_minor": 5
}
