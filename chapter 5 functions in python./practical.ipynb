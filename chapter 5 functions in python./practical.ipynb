{
 "cells": [
  {
   "cell_type": "markdown",
   "id": "36a87577",
   "metadata": {},
   "source": [
    "## **🧠 “Mastering Python Functions: 12 Real-World Examples.”**"
   ]
  },
  {
   "cell_type": "markdown",
   "id": "28837dfd",
   "metadata": {},
   "source": [
    "### **🔸 1. Simple Function Example**"
   ]
  },
  {
   "cell_type": "code",
   "execution_count": 2,
   "id": "d206bac1",
   "metadata": {},
   "outputs": [
    {
     "name": "stdout",
     "output_type": "stream",
     "text": [
      "Welcome to Python functions!\n"
     ]
    }
   ],
   "source": [
    "def welcome():\n",
    "    print(\"Welcome to Python functions!\")\n",
    "\n",
    "welcome()# this call the function."
   ]
  },
  {
   "cell_type": "markdown",
   "id": "650da936",
   "metadata": {},
   "source": [
    "### **🔸 2. Function with Parameter**"
   ]
  },
  {
   "cell_type": "code",
   "execution_count": 4,
   "id": "c1697294",
   "metadata": {},
   "outputs": [
    {
     "name": "stdout",
     "output_type": "stream",
     "text": [
      "I love Python\n",
      "I love JavaScript\n"
     ]
    }
   ],
   "source": [
    "def favorite_language(language):\n",
    "    print(\"I love\", language)\n",
    "\n",
    "favorite_language(\"Python\")\n",
    "favorite_language(\"JavaScript\")# you can write any name as you want."
   ]
  },
  {
   "cell_type": "markdown",
   "id": "42c2c91c",
   "metadata": {},
   "source": [
    "### **🔸 3. Function with Return Value**"
   ]
  },
  {
   "cell_type": "code",
   "execution_count": 6,
   "id": "5de4cb77",
   "metadata": {},
   "outputs": [
    {
     "name": "stdout",
     "output_type": "stream",
     "text": [
      "Result is: 24\n"
     ]
    }
   ],
   "source": [
    "def multiply(x, y):\n",
    "    return x * y\n",
    "\n",
    "product = multiply(4, 6)\n",
    "print(\"Result is:\", product)# you should use print with return."
   ]
  },
  {
   "cell_type": "markdown",
   "id": "63c14ce2",
   "metadata": {},
   "source": [
    "### **🔸 4. Function with Default Parameter**"
   ]
  },
  {
   "cell_type": "code",
   "execution_count": 8,
   "id": "8e0418b7",
   "metadata": {},
   "outputs": [
    {
     "name": "stdout",
     "output_type": "stream",
     "text": [
      "Hello User\n",
      "Hello Snail\n"
     ]
    }
   ],
   "source": [
    "def say_hello(name=\"User\"):# if you did not pass any name then it automatically take \"User\" as name\n",
    "    print(\"Hello\", name)\n",
    "\n",
    "say_hello()          # uses default\n",
    "say_hello(\"Snail\")   # overrides default"
   ]
  },
  {
   "cell_type": "markdown",
   "id": "faee38b0",
   "metadata": {},
   "source": [
    "### **🔸 5. Function with Keyword Arguments**"
   ]
  },
  {
   "cell_type": "code",
   "execution_count": 10,
   "id": "9f156243",
   "metadata": {},
   "outputs": [
    {
     "name": "stdout",
     "output_type": "stream",
     "text": [
      "Brand: Hyundai\n",
      "Model: i20\n"
     ]
    }
   ],
   "source": [
    "def car_details(brand, model):\n",
    "    print(\"Brand:\", brand)\n",
    "    print(\"Model:\", model)\n",
    "\n",
    "car_details(model=\"i20\", brand=\"Hyundai\")"
   ]
  },
  {
   "cell_type": "markdown",
   "id": "4c79e3d6",
   "metadata": {},
   "source": [
    "### **🔸 6. Function with \\*args (Multiple Positional Arguments)**"
   ]
  },
  {
   "cell_type": "code",
   "execution_count": 11,
   "id": "93cfb85e",
   "metadata": {},
   "outputs": [
    {
     "name": "stdout",
     "output_type": "stream",
     "text": [
      "You bought:\n",
      "- Milk\n",
      "- Eggs\n",
      "- Bread\n"
     ]
    }
   ],
   "source": [
    "def shopping_list(*items):\n",
    "    print(\"You bought:\")\n",
    "    for item in items:\n",
    "        print(\"-\", item)\n",
    "\n",
    "shopping_list(\"Milk\", \"Eggs\", \"Bread\")# you can add many items by using *args."
   ]
  }
 ],
 "metadata": {
  "kernelspec": {
   "display_name": "Python 3",
   "language": "python",
   "name": "python3"
  },
  "language_info": {
   "codemirror_mode": {
    "name": "ipython",
    "version": 3
   },
   "file_extension": ".py",
   "mimetype": "text/x-python",
   "name": "python",
   "nbconvert_exporter": "python",
   "pygments_lexer": "ipython3",
   "version": "3.13.5"
  }
 },
 "nbformat": 4,
 "nbformat_minor": 5
}
