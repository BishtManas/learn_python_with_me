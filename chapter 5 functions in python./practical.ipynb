{
 "cells": [
  {
   "cell_type": "markdown",
   "id": "36a87577",
   "metadata": {},
   "source": [
    "## **🧠 “Mastering Python Functions: 12 Real-World Examples.”**"
   ]
  },
  {
   "cell_type": "markdown",
   "id": "28837dfd",
   "metadata": {},
   "source": [
    "### **🔸 1. Simple Function Example**"
   ]
  },
  {
   "cell_type": "code",
   "execution_count": 10,
   "id": "d206bac1",
   "metadata": {},
   "outputs": [
    {
     "name": "stdout",
     "output_type": "stream",
     "text": [
      "Welcome to Python functions!\n"
     ]
    }
   ],
   "source": [
    "def welcome():\n",
    "    print(\"Welcome to Python functions!\")\n",
    "\n",
    "welcome()# this call the function."
   ]
  },
  {
   "cell_type": "markdown",
   "id": "650da936",
   "metadata": {},
   "source": [
    "### **🔸 2. Function with Parameter**"
   ]
  },
  {
   "cell_type": "code",
   "execution_count": 11,
   "id": "c1697294",
   "metadata": {},
   "outputs": [
    {
     "name": "stdout",
     "output_type": "stream",
     "text": [
      "I love Python\n",
      "I love JavaScript\n"
     ]
    }
   ],
   "source": [
    "def favorite_language(language):\n",
    "    print(\"I love\", language)\n",
    "\n",
    "favorite_language(\"Python\")\n",
    "favorite_language(\"JavaScript\")# you can write any name as you want."
   ]
  },
  {
   "cell_type": "markdown",
   "id": "42c2c91c",
   "metadata": {},
   "source": [
    "### **🔸 3. Function with Return Value**"
   ]
  },
  {
   "cell_type": "code",
   "execution_count": 12,
   "id": "5de4cb77",
   "metadata": {},
   "outputs": [
    {
     "name": "stdout",
     "output_type": "stream",
     "text": [
      "Result is: 24\n"
     ]
    }
   ],
   "source": [
    "def multiply(x, y):\n",
    "    return x * y\n",
    "\n",
    "product = multiply(4, 6)\n",
    "print(\"Result is:\", product)# you should use print with return."
   ]
  },
  {
   "cell_type": "markdown",
   "id": "63c14ce2",
   "metadata": {},
   "source": [
    "### **🔸 4. Function with Default Parameter**"
   ]
  },
  {
   "cell_type": "code",
   "execution_count": 13,
   "id": "8e0418b7",
   "metadata": {},
   "outputs": [
    {
     "name": "stdout",
     "output_type": "stream",
     "text": [
      "Hello User\n",
      "Hello Snail\n"
     ]
    }
   ],
   "source": [
    "def say_hello(name=\"User\"):# if you did not pass any name then it automatically take \"User\" as name\n",
    "    print(\"Hello\", name)\n",
    "\n",
    "say_hello()          # uses default\n",
    "say_hello(\"Snail\")   # overrides default"
   ]
  },
  {
   "cell_type": "markdown",
   "id": "faee38b0",
   "metadata": {},
   "source": [
    "### **🔸 5. Function with Keyword Arguments**"
   ]
  },
  {
   "cell_type": "code",
   "execution_count": 14,
   "id": "9f156243",
   "metadata": {},
   "outputs": [
    {
     "name": "stdout",
     "output_type": "stream",
     "text": [
      "Brand: Hyundai\n",
      "Model: i20\n"
     ]
    }
   ],
   "source": [
    "def car_details(brand, model):\n",
    "    print(\"Brand:\", brand)\n",
    "    print(\"Model:\", model)\n",
    "\n",
    "car_details(model=\"i20\", brand=\"Hyundai\")"
   ]
  },
  {
   "cell_type": "markdown",
   "id": "4c79e3d6",
   "metadata": {},
   "source": [
    "### **🔸 6. Function with \\*args (Multiple Positional Arguments)**"
   ]
  },
  {
   "cell_type": "code",
   "execution_count": 15,
   "id": "93cfb85e",
   "metadata": {},
   "outputs": [
    {
     "name": "stdout",
     "output_type": "stream",
     "text": [
      "You bought:\n",
      "- Milk\n",
      "- Eggs\n",
      "- Bread\n"
     ]
    }
   ],
   "source": [
    "def shopping_list(*items):\n",
    "    print(\"You bought:\")\n",
    "    for item in items:\n",
    "        print(\"-\", item)\n",
    "\n",
    "shopping_list(\"Milk\", \"Eggs\", \"Bread\")# you can add many items by using *args."
   ]
  },
  {
   "cell_type": "markdown",
   "id": "0070c796",
   "metadata": {},
   "source": [
    "### **🔸 7. Function with \\*\\*kwargs (Multiple Keyword Arguments)**"
   ]
  },
  {
   "cell_type": "code",
   "execution_count": 16,
   "id": "8cc1e755",
   "metadata": {},
   "outputs": [
    {
     "name": "stdout",
     "output_type": "stream",
     "text": [
      "title : Atomic Habits\n",
      "author : James Clear\n",
      "pages : 250\n"
     ]
    }
   ],
   "source": [
    "def display_book(**info):\n",
    "    for key, value in info.items():\n",
    "        print(key, \":\", value)\n",
    "\n",
    "display_book(title=\"Atomic Habits\", author=\"James Clear\", pages=250)"
   ]
  },
  {
   "cell_type": "markdown",
   "id": "c4dad3f0",
   "metadata": {},
   "source": [
    "### **🔸 8. Built-in vs User-defined Function Example**"
   ]
  },
  {
   "cell_type": "code",
   "execution_count": 17,
   "id": "6e44ffc6",
   "metadata": {},
   "outputs": [
    {
     "name": "stdout",
     "output_type": "stream",
     "text": [
      "Length of name: 5\n",
      "HELLOOO!\n"
     ]
    }
   ],
   "source": [
    "# Built-in function\n",
    "print(\"Length of name:\", len(\"Snail\"))\n",
    "\n",
    "# User-defined function\n",
    "def shout():\n",
    "    print(\"HELLOOO!\")\n",
    "\n",
    "shout()"
   ]
  },
  {
   "cell_type": "markdown",
   "id": "c8214627",
   "metadata": {},
   "source": [
    "### **🔸 9. Lambda Function Example**"
   ]
  },
  {
   "cell_type": "code",
   "execution_count": 18,
   "id": "313cf49b",
   "metadata": {},
   "outputs": [
    {
     "name": "stdout",
     "output_type": "stream",
     "text": [
      "Cube using normal function: 27\n",
      "Cube using lambda: 27\n"
     ]
    }
   ],
   "source": [
    "# Traditional function\n",
    "def cube(x):\n",
    "    return x ** 3\n",
    "\n",
    "print(\"Cube using normal function:\", cube(3))\n",
    "\n",
    "# Lambda function\n",
    "cube = lambda x: x ** 3# This is a one line function.\n",
    "print(\"Cube using lambda:\", cube(3))"
   ]
  },
  {
   "cell_type": "markdown",
   "id": "4185df50",
   "metadata": {},
   "source": [
    "### **🔸 10. Combine Return + \\*args**"
   ]
  },
  {
   "cell_type": "code",
   "execution_count": 19,
   "id": "0dae4220",
   "metadata": {},
   "outputs": [
    {
     "name": "stdout",
     "output_type": "stream",
     "text": [
      "Total: 50\n"
     ]
    }
   ],
   "source": [
    "def sum_all(*nums):\n",
    "    return sum(nums)# \"sum\" is a build in function helps to sum elements.\n",
    "\n",
    "print(\"Total:\", sum_all(5, 10, 15, 20))"
   ]
  },
  {
   "cell_type": "markdown",
   "id": "9554238f",
   "metadata": {},
   "source": [
    "### **🔸 11. Combine Return + \\*\\*kwargs**"
   ]
  },
  {
   "cell_type": "code",
   "execution_count": 20,
   "id": "c8c52db0",
   "metadata": {},
   "outputs": [
    {
     "name": "stdout",
     "output_type": "stream",
     "text": [
      "Email ID: snail123@gmail.com\n"
     ]
    }
   ],
   "source": [
    "def create_email(**info):\n",
    "    return f\"{info['name']}@{info['domain']}.com\"\n",
    "\n",
    "email = create_email(name=\"snail123\", domain=\"gmail\")\n",
    "print(\"Email ID:\", email)"
   ]
  },
  {
   "cell_type": "markdown",
   "id": "4b80b439",
   "metadata": {},
   "source": [
    "### **🔸 12. Function Calling Another Function**"
   ]
  },
  {
   "cell_type": "code",
   "execution_count": 21,
   "id": "801a9885",
   "metadata": {},
   "outputs": [
    {
     "name": "stdout",
     "output_type": "stream",
     "text": [
      "Square is: 49\n"
     ]
    }
   ],
   "source": [
    "def square(n):\n",
    "    return n * n\n",
    "\n",
    "def show_result(x):\n",
    "    print(\"Square is:\", square(x))# you can also call function in inside the another function.\n",
    "\n",
    "show_result(7)"
   ]
  }
 ],
 "metadata": {
  "kernelspec": {
   "display_name": "Python 3",
   "language": "python",
   "name": "python3"
  },
  "language_info": {
   "codemirror_mode": {
    "name": "ipython",
    "version": 3
   },
   "file_extension": ".py",
   "mimetype": "text/x-python",
   "name": "python",
   "nbconvert_exporter": "python",
   "pygments_lexer": "ipython3",
   "version": "3.13.5"
  }
 },
 "nbformat": 4,
 "nbformat_minor": 5
}
