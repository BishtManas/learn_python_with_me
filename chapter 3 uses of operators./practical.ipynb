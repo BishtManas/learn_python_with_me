{
 "cells": [
  {
   "cell_type": "markdown",
   "id": "0268fcf4",
   "metadata": {},
   "source": [
    "## 🧠 **Python Operators Explained with Examples**\n",
    "### **This notebook covers all important operators in Python with beginner-friendly examples and explanations.**\n"
   ]
  },
  {
   "cell_type": "markdown",
   "id": "65edf328",
   "metadata": {},
   "source": [
    "## 🔢 1️⃣ Arithmetic Operators\n",
    "Used to perform mathematical operations like addition, subtraction, multiplication, etc.\n"
   ]
  },
  {
   "cell_type": "code",
   "execution_count": null,
   "id": "f71fd807",
   "metadata": {},
   "outputs": [
    {
     "name": "stdout",
     "output_type": "stream",
     "text": [
      "Addition: 13\n",
      "Subtraction: 7\n",
      "Multiplication: 30\n",
      "Division: 3.3333333333333335\n",
      "Floor Division: 3\n",
      "Modulus (Remainder): 1\n",
      "Exponent (Power): 1000\n"
     ]
    }
   ],
   "source": [
    "# 🧮 Arithmetic Operators Example\n",
    "\n",
    "a = 10\n",
    "b = 3\n",
    "\n",
    "print(\"Addition:\", a + b)         \n",
    "print(\"Subtraction:\", a - b)      \n",
    "print(\"Multiplication:\", a * b)   \n",
    "print(\"Division:\", a / b)         \n",
    "print(\"Floor Division:\", a // b)  \n",
    "print(\"Modulus (Remainder):\", a % b)  \n",
    "print(\"Exponent (Power):\", a ** b)    "
   ]
  },
  {
   "cell_type": "markdown",
   "id": "e898dda8",
   "metadata": {},
   "source": [
    "## 📝 2️⃣ Assignment Operators\n",
    "Used to assign values to variables and update them using `=`, `+=`, `-=`, etc.\n"
   ]
  },
  {
   "cell_type": "code",
   "execution_count": 3,
   "id": "09009ca0",
   "metadata": {},
   "outputs": [
    {
     "name": "stdout",
     "output_type": "stream",
     "text": [
      "Initial x: 5\n",
      "After += 2: 7\n",
      "After *= 3: 21\n",
      "After -= 4: 17\n",
      "After /= 2: 8.5\n",
      "After **= 2: 72.25\n"
     ]
    }
   ],
   "source": [
    "# 📝 Assignment Operators Example\n",
    "\n",
    "x = 5\n",
    "print(\"Initial x:\", x)  # Now x is equal to 5\n",
    "\n",
    "x += 2   # x = x + 2\n",
    "print(\"After += 2:\", x)\n",
    "\n",
    "x *= 3   # x = x * 3\n",
    "print(\"After *= 3:\", x)\n",
    "\n",
    "x -= 4   # x = x - 4\n",
    "print(\"After -= 4:\", x)\n",
    "\n",
    "x /= 2   # x = x / 2\n",
    "print(\"After /= 2:\", x)  # This will give a float value\n",
    "\n",
    "# Note: If you use '//' instead of '/', it will give an integer (no decimal).\n",
    "\n",
    "x **= 2  # x = x ** 2\n",
    "print(\"After **= 2:\", x)"
   ]
  },
  {
   "cell_type": "markdown",
   "id": "4f702c32",
   "metadata": {},
   "source": [
    "## 🔍 3️⃣ Comparison Operators\n",
    "Used to compare two values. Always return `True` or `False`."
   ]
  },
  {
   "cell_type": "code",
   "execution_count": 5,
   "id": "65e1c4a3",
   "metadata": {},
   "outputs": [
    {
     "name": "stdout",
     "output_type": "stream",
     "text": [
      "Is a equal to b? False\n",
      "Is a not equal to b? True\n",
      "Is a greater than b? False\n",
      "Is a less than b? True\n",
      "Is a greater or equal to b? False\n",
      "Is a less or equal to b? True\n"
     ]
    }
   ],
   "source": [
    "# 🔍 Comparison Operators Example\n",
    "\n",
    "a = 15\n",
    "b = 20\n",
    "\n",
    "print(\"Is a equal to b?\", a == b)       \n",
    "print(\"Is a not equal to b?\", a != b)   \n",
    "print(\"Is a greater than b?\", a > b)    \n",
    "print(\"Is a less than b?\", a < b)       \n",
    "print(\"Is a greater or equal to b?\", a >= b)  \n",
    "print(\"Is a less or equal to b?\", a <= b)     "
   ]
  },
  {
   "cell_type": "markdown",
   "id": "ebd631b4",
   "metadata": {},
   "source": [
    "## ⚙️ 4️⃣ Logical Operators\n",
    "Used to combine conditional statements using `and`, `or`, `not`."
   ]
  },
  {
   "cell_type": "code",
   "execution_count": 6,
   "id": "68984cd5",
   "metadata": {},
   "outputs": [
    {
     "name": "stdout",
     "output_type": "stream",
     "text": [
      "Logical AND (x > 5 and x < 10): True\n",
      "Logical OR (x < 5 or x == 7): True\n",
      "Logical NOT (not x == 7): False\n"
     ]
    }
   ],
   "source": [
    "# ⚙️ Logical Operators Example\n",
    "\n",
    "x = 7\n",
    "\n",
    "print(\"Logical AND (x > 5 and x < 10):\", x > 5 and x < 10)  \n",
    "print(\"Logical OR (x < 5 or x == 7):\", x < 5 or x == 7)     \n",
    "print(\"Logical NOT (not x == 7):\", not x == 7)              "
   ]
  },
  {
   "cell_type": "markdown",
   "id": "e3ff26c8",
   "metadata": {},
   "source": [
    "## 🧬 5️⃣ Identity Operators\n",
    "Used to check if two variables refer to the same object in memory."
   ]
  },
  {
   "cell_type": "code",
   "execution_count": 7,
   "id": "53f36d9c",
   "metadata": {},
   "outputs": [
    {
     "name": "stdout",
     "output_type": "stream",
     "text": [
      "Is 'a' the same object as 'b'? True\n",
      "Is 'a' the same object as 'c'? False\n",
      "Is 'a' not the same as 'c'? True\n"
     ]
    }
   ],
   "source": [
    "# 🧬 Identity Operators Example\n",
    "\n",
    "a = [1, 2, 3]\n",
    "b = a\n",
    "c = [1, 2, 3]\n",
    "\n",
    "print(\"Is 'a' the same object as 'b'?\", a is b)         \n",
    "print(\"Is 'a' the same object as 'c'?\", a is c)         \n",
    "print(\"Is 'a' not the same as 'c'?\", a is not c)        "
   ]
  },
  {
   "cell_type": "markdown",
   "id": "c9af8418",
   "metadata": {},
   "source": [
    "## 🧾 6️⃣ Membership Operators\n",
    "Used to check if a value exists in a sequence (like a list, string, etc.)"
   ]
  },
  {
   "cell_type": "code",
   "execution_count": 8,
   "id": "144ad47f",
   "metadata": {},
   "outputs": [
    {
     "name": "stdout",
     "output_type": "stream",
     "text": [
      "Is 'banana' in fruits? True\n",
      "Is 'mango' not in fruits? True\n"
     ]
    }
   ],
   "source": [
    "# 🧾 Membership Operators Example\n",
    "\n",
    "fruits = [\"apple\", \"banana\", \"cherry\"]\n",
    "\n",
    "print(\"Is 'banana' in fruits?\", \"banana\" in fruits)         \n",
    "print(\"Is 'mango' not in fruits?\", \"mango\" not in fruits)   "
   ]
  },
  {
   "cell_type": "markdown",
   "id": "656b9271",
   "metadata": {},
   "source": [
    "## 🎯 Summary of Operators\n",
    "\n",
    "| Type          | Operators                            |\n",
    "|---------------|--------------------------------------|\n",
    "| Arithmetic    | `+`, `-`, `*`, `/`, `//`, `%`, `**`   |\n",
    "| Assignment    | `=`, `+=`, `-=`, `*=`, `/=`, `**=`    |\n",
    "| Comparison    | `==`, `!=`, `>`, `<`, `>=`, `<=`      |\n",
    "| Logical       | `and`, `or`, `not`                    |\n",
    "| Identity      | `is`, `is not`                        |\n",
    "| Membership    | `in`, `not in`                        |"
   ]
  },
  {
   "cell_type": "markdown",
   "id": "4174750b",
   "metadata": {},
   "source": []
  }
 ],
 "metadata": {
  "kernelspec": {
   "display_name": "Python 3",
   "language": "python",
   "name": "python3"
  },
  "language_info": {
   "codemirror_mode": {
    "name": "ipython",
    "version": 3
   },
   "file_extension": ".py",
   "mimetype": "text/x-python",
   "name": "python",
   "nbconvert_exporter": "python",
   "pygments_lexer": "ipython3",
   "version": "3.13.5"
  }
 },
 "nbformat": 4,
 "nbformat_minor": 5
}
