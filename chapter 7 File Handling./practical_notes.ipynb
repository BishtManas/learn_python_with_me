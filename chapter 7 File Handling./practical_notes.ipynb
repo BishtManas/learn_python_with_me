{
 "cells": [
  {
   "cell_type": "markdown",
   "id": "4600bce8",
   "metadata": {},
   "source": [
    "## ✅ What is File Handling?\n",
    "\n",
    "File handling means reading from or writing to files using Python.\n",
    "\n",
    "📌 Real Life: Instead of writing to Notepad, we let Python create, read, or update `.txt` or `.csv` files for us — all with code!"
   ]
  },
  {
   "cell_type": "markdown",
   "id": "0e54c60c",
   "metadata": {},
   "source": [
    "## 🔓 Opening a File – Syntax"
   ]
  },
  {
   "cell_type": "code",
   "execution_count": 2,
   "id": "4dc139d7",
   "metadata": {},
   "outputs": [],
   "source": [
    "# file = open(\"notes.txt\", \"mode\")# this is only a syntax"
   ]
  },
  {
   "cell_type": "markdown",
   "id": "ced12d1f",
   "metadata": {},
   "source": [
    "### 📌 File Modes\n",
    "\n",
    "| Mode  | Description                                       |\n",
    "| ----- | ------------------------------------------------- |\n",
    "| `'r'` | Read only                                         |\n",
    "| `'w'` | Write (overwrite or create new)                   |\n",
    "| `'a'` | Append (add at the end)                           |\n",
    "| `'x'` | Exclusive creation (error if file already exists) |\n",
    "| `'t'` | Text mode (default)                               |\n",
    "| `'b'` | Binary mode (images, audio, etc.)                 |\n",
    "\n",
    "🧪 Example:"
   ]
  },
  {
   "cell_type": "code",
   "execution_count": 3,
   "id": "0ad32dd4",
   "metadata": {},
   "outputs": [],
   "source": [
    "file = open(\"file.txt\", \"r\")   # Read file."
   ]
  },
  {
   "cell_type": "code",
   "execution_count": 4,
   "id": "3a890c8c",
   "metadata": {},
   "outputs": [
    {
     "name": "stdout",
     "output_type": "stream",
     "text": [
      "Hi, I'm Manas.This is python!\n",
      "Learning is fun.\n"
     ]
    }
   ],
   "source": [
    "print(file.read())# you can read file "
   ]
  },
  {
   "cell_type": "code",
   "execution_count": 5,
   "id": "89959f13",
   "metadata": {},
   "outputs": [],
   "source": [
    "file.close() # you must close the file."
   ]
  },
  {
   "cell_type": "markdown",
   "id": "0481ffbb",
   "metadata": {},
   "source": [
    "## ✍️ Writing to a `.txt` File"
   ]
  },
  {
   "cell_type": "code",
   "execution_count": 6,
   "id": "3cf64941",
   "metadata": {},
   "outputs": [],
   "source": [
    "file = open(\"file.txt\", \"w\")"
   ]
  },
  {
   "cell_type": "code",
   "execution_count": 7,
   "id": "8fdcc998",
   "metadata": {},
   "outputs": [
    {
     "data": {
      "text/plain": [
       "14"
      ]
     },
     "execution_count": 7,
     "metadata": {},
     "output_type": "execute_result"
    }
   ],
   "source": [
    "file.write(\"Hi, I'm Manas.\")"
   ]
  },
  {
   "cell_type": "code",
   "execution_count": 8,
   "id": "f898ea26",
   "metadata": {},
   "outputs": [
    {
     "data": {
      "text/plain": [
       "32"
      ]
     },
     "execution_count": 8,
     "metadata": {},
     "output_type": "execute_result"
    }
   ],
   "source": [
    "file.write(\"This is python!\\nLearning is fun.\")"
   ]
  },
  {
   "cell_type": "code",
   "execution_count": 9,
   "id": "2bee4691",
   "metadata": {},
   "outputs": [],
   "source": [
    "file.close()"
   ]
  },
  {
   "cell_type": "code",
   "execution_count": 10,
   "id": "7419f7c8",
   "metadata": {},
   "outputs": [],
   "source": [
    "file = open(\"file.txt\",\"r\")"
   ]
  },
  {
   "cell_type": "code",
   "execution_count": 11,
   "id": "856bff47",
   "metadata": {},
   "outputs": [
    {
     "name": "stdout",
     "output_type": "stream",
     "text": [
      "Hi, I'm Manas.This is python!\n",
      "Learning is fun.\n"
     ]
    }
   ],
   "source": [
    "print(file.read())"
   ]
  },
  {
   "cell_type": "code",
   "execution_count": 12,
   "id": "16a2e149",
   "metadata": {},
   "outputs": [],
   "source": [
    "file.close()"
   ]
  }
 ],
 "metadata": {
  "kernelspec": {
   "display_name": "Python 3",
   "language": "python",
   "name": "python3"
  },
  "language_info": {
   "codemirror_mode": {
    "name": "ipython",
    "version": 3
   },
   "file_extension": ".py",
   "mimetype": "text/x-python",
   "name": "python",
   "nbconvert_exporter": "python",
   "pygments_lexer": "ipython3",
   "version": "3.13.5"
  }
 },
 "nbformat": 4,
 "nbformat_minor": 5
}
