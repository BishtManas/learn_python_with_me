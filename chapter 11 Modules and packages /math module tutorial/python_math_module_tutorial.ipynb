{
 "cells": [
  {
   "cell_type": "markdown",
   "id": "3fb4212a",
   "metadata": {},
   "source": [
    "# 🧮 Python `math` Module – Complete Beginner Tutorial"
   ]
  },
  {
   "cell_type": "markdown",
   "id": "250396e1",
   "metadata": {},
   "source": [
    "The **`math` module** in Python gives us access to many useful **mathematical functions**, constants (like π), and tools (like square root, power, trigonometry, etc.).\n",
    "\n",
    "To use the `math` module, you must first **import** it:\n",
    "```python\n",
    "import math\n",
    "```\n",
    "This notebook includes common examples and how to use each function step by step."
   ]
  },
  {
   "cell_type": "markdown",
   "id": "ecab309e",
   "metadata": {},
   "source": [
    "# ✅ Importing the math module"
   ]
  },
  {
   "cell_type": "code",
   "execution_count": 1,
   "id": "96889fae",
   "metadata": {},
   "outputs": [],
   "source": [
    "import math"
   ]
  },
  {
   "cell_type": "markdown",
   "id": "9cae951b",
   "metadata": {},
   "source": [
    "# 🟢 Square Root"
   ]
  },
  {
   "cell_type": "code",
   "execution_count": 2,
   "id": "25807ae6",
   "metadata": {},
   "outputs": [
    {
     "name": "stdout",
     "output_type": "stream",
     "text": [
      "Square root: 5.0\n"
     ]
    }
   ],
   "source": [
    "num = 25\n",
    "print(\"Square root:\", math.sqrt(num))"
   ]
  },
  {
   "cell_type": "markdown",
   "id": "12801e57",
   "metadata": {},
   "source": [
    "# 🟢 Power Function"
   ]
  },
  {
   "cell_type": "code",
   "execution_count": 3,
   "id": "e476282c",
   "metadata": {},
   "outputs": [
    {
     "name": "stdout",
     "output_type": "stream",
     "text": [
      "2 raised to 3: 8.0\n"
     ]
    }
   ],
   "source": [
    "print(\"2 raised to 3:\", math.pow(2, 3))"
   ]
  },
  {
   "cell_type": "markdown",
   "id": "70036bc8",
   "metadata": {},
   "source": [
    "# 🟢 Floor and Ceil"
   ]
  },
  {
   "cell_type": "code",
   "execution_count": 4,
   "id": "d2aa9ca7",
   "metadata": {},
   "outputs": [
    {
     "name": "stdout",
     "output_type": "stream",
     "text": [
      "Floor of 4.7: 4\n",
      "Ceil of 4.2: 5\n"
     ]
    }
   ],
   "source": [
    "print(\"Floor of 4.7:\", math.floor(4.7))\n",
    "print(\"Ceil of 4.2:\", math.ceil(4.2))"
   ]
  },
  {
   "cell_type": "markdown",
   "id": "19658fa5",
   "metadata": {},
   "source": [
    "# 🟢 Factorial"
   ]
  },
  {
   "cell_type": "code",
   "execution_count": 5,
   "id": "11ef3f6d",
   "metadata": {},
   "outputs": [
    {
     "name": "stdout",
     "output_type": "stream",
     "text": [
      "Factorial of 5: 120\n"
     ]
    }
   ],
   "source": [
    "print(\"Factorial of 5:\", math.factorial(5))"
   ]
  },
  {
   "cell_type": "markdown",
   "id": "57e73879",
   "metadata": {},
   "source": [
    "# 🟢 Absolute Value"
   ]
  },
  {
   "cell_type": "code",
   "execution_count": 6,
   "id": "a74a6be0",
   "metadata": {},
   "outputs": [
    {
     "name": "stdout",
     "output_type": "stream",
     "text": [
      "Absolute value of -10: 10.0\n"
     ]
    }
   ],
   "source": [
    "print(\"Absolute value of -10:\", math.fabs(-10))"
   ]
  },
  {
   "cell_type": "markdown",
   "id": "a39c88bd",
   "metadata": {},
   "source": [
    "# 🟢 Integer Square Root"
   ]
  },
  {
   "cell_type": "code",
   "execution_count": 7,
   "id": "e39870b3",
   "metadata": {},
   "outputs": [
    {
     "name": "stdout",
     "output_type": "stream",
     "text": [
      "Integer square root of 10: 3\n"
     ]
    }
   ],
   "source": [
    "print(\"Integer square root of 10:\", math.isqrt(10))"
   ]
  },
  {
   "cell_type": "markdown",
   "id": "2bf7fbf2",
   "metadata": {},
   "source": [
    "# 🟢 Logarithms"
   ]
  },
  {
   "cell_type": "code",
   "execution_count": 8,
   "id": "4ecfc82a",
   "metadata": {},
   "outputs": [
    {
     "name": "stdout",
     "output_type": "stream",
     "text": [
      "Natural log of 10: 2.302585092994046\n",
      "Log base 10 of 100: 2.0\n"
     ]
    }
   ],
   "source": [
    "print(\"Natural log of 10:\", math.log(10))\n",
    "print(\"Log base 10 of 100:\", math.log10(100))"
   ]
  },
  {
   "cell_type": "markdown",
   "id": "fd5c8556",
   "metadata": {},
   "source": [
    "# 🟢 GCD"
   ]
  },
  {
   "cell_type": "code",
   "execution_count": 9,
   "id": "b09bfd5b",
   "metadata": {},
   "outputs": [
    {
     "name": "stdout",
     "output_type": "stream",
     "text": [
      "GCD of 36 and 60: 12\n"
     ]
    }
   ],
   "source": [
    "print(\"GCD of 36 and 60:\", math.gcd(36, 60))"
   ]
  },
  {
   "cell_type": "markdown",
   "id": "529982e1",
   "metadata": {},
   "source": [
    "# 🟢 Constants"
   ]
  },
  {
   "cell_type": "code",
   "execution_count": 10,
   "id": "23e9c01c",
   "metadata": {},
   "outputs": [
    {
     "name": "stdout",
     "output_type": "stream",
     "text": [
      "Pi: 3.141592653589793\n",
      "Euler's e: 2.718281828459045\n"
     ]
    }
   ],
   "source": [
    "print(\"Pi:\", math.pi)\n",
    "print(\"Euler's e:\", math.e)"
   ]
  },
  {
   "cell_type": "markdown",
   "id": "016fb354",
   "metadata": {},
   "source": [
    "# 🟢 Trigonometry"
   ]
  },
  {
   "cell_type": "code",
   "execution_count": 11,
   "id": "eaa75e0f",
   "metadata": {},
   "outputs": [
    {
     "name": "stdout",
     "output_type": "stream",
     "text": [
      "sin(90°): 1.0\n",
      "cos(0°): 1.0\n",
      "tan(45°): 0.9999999999999999\n"
     ]
    }
   ],
   "source": [
    "print(\"sin(90°):\", math.sin(math.radians(90)))\n",
    "print(\"cos(0°):\", math.cos(math.radians(0)))\n",
    "print(\"tan(45°):\", math.tan(math.radians(45)))"
   ]
  },
  {
   "cell_type": "markdown",
   "id": "34ace9d1",
   "metadata": {},
   "source": [
    "# 🟢 Degree & Radians Conversion"
   ]
  },
  {
   "cell_type": "code",
   "execution_count": 12,
   "id": "32939467",
   "metadata": {},
   "outputs": [
    {
     "name": "stdout",
     "output_type": "stream",
     "text": [
      "180° to radians: 3.141592653589793\n",
      "π radians to degrees: 180.0\n"
     ]
    }
   ],
   "source": [
    "print(\"180° to radians:\", math.radians(180))\n",
    "print(\"π radians to degrees:\", math.degrees(math.pi))"
   ]
  },
  {
   "cell_type": "markdown",
   "id": "f06d2a23",
   "metadata": {},
   "source": [
    "# 🟢 Hypotenuse"
   ]
  },
  {
   "cell_type": "code",
   "execution_count": 13,
   "id": "0fe67abe",
   "metadata": {},
   "outputs": [
    {
     "name": "stdout",
     "output_type": "stream",
     "text": [
      "Hypotenuse of 3, 4: 5.0\n"
     ]
    }
   ],
   "source": [
    "print(\"Hypotenuse of 3, 4:\", math.hypot(3, 4))"
   ]
  },
  {
   "cell_type": "markdown",
   "id": "9f95c4c6",
   "metadata": {},
   "source": [
    "# 🟢 Remainder"
   ]
  },
  {
   "cell_type": "code",
   "execution_count": 14,
   "id": "d7519bde",
   "metadata": {},
   "outputs": [
    {
     "name": "stdout",
     "output_type": "stream",
     "text": [
      "Remainder of 20 ÷ 6: 2.0\n"
     ]
    }
   ],
   "source": [
    "\n",
    "print(\"Remainder of 20 ÷ 6:\", math.fmod(20, 6))"
   ]
  },
  {
   "cell_type": "markdown",
   "id": "08a6d4bf",
   "metadata": {},
   "source": [
    "# 🟢 Copy Sign"
   ]
  },
  {
   "cell_type": "code",
   "execution_count": 15,
   "id": "42309945",
   "metadata": {},
   "outputs": [
    {
     "name": "stdout",
     "output_type": "stream",
     "text": [
      "Copy sign from -5 to 10: -10.0\n"
     ]
    }
   ],
   "source": [
    "print(\"Copy sign from -5 to 10:\", math.copysign(10, -5))"
   ]
  },
  {
   "cell_type": "markdown",
   "id": "4b8d4edd",
   "metadata": {},
   "source": [
    "# 🟢 Exponential Function"
   ]
  },
  {
   "cell_type": "code",
   "execution_count": 16,
   "id": "c3e72b90",
   "metadata": {},
   "outputs": [
    {
     "name": "stdout",
     "output_type": "stream",
     "text": [
      "e^2: 7.38905609893065\n"
     ]
    }
   ],
   "source": [
    "print(\"e^2:\", math.exp(2))"
   ]
  },
  {
   "cell_type": "markdown",
   "id": "0768ad43",
   "metadata": {},
   "source": [
    "# 🟢 modf: Fractional and Integer Part"
   ]
  },
  {
   "cell_type": "code",
   "execution_count": 17,
   "id": "285b0adc",
   "metadata": {},
   "outputs": [
    {
     "name": "stdout",
     "output_type": "stream",
     "text": [
      "Fractional: 0.75\n",
      "Integer: 4.0\n"
     ]
    }
   ],
   "source": [
    "fraction, integer = math.modf(4.75)\n",
    "print(\"Fractional:\", fraction)\n",
    "print(\"Integer:\", integer)"
   ]
  }
 ],
 "metadata": {
  "kernelspec": {
   "display_name": "Python 3",
   "language": "python",
   "name": "python3"
  },
  "language_info": {
   "codemirror_mode": {
    "name": "ipython",
    "version": 3
   },
   "file_extension": ".py",
   "mimetype": "text/x-python",
   "name": "python",
   "nbconvert_exporter": "python",
   "pygments_lexer": "ipython3",
   "version": "3.13.3"
  }
 },
 "nbformat": 4,
 "nbformat_minor": 5
}
