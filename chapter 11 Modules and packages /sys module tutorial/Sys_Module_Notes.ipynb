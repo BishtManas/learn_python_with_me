{
 "cells": [
  {
   "cell_type": "markdown",
   "id": "cbe93a87",
   "metadata": {},
   "source": [
    "# 🧠 Python `sys` Module\n",
    "This notebook covers the most useful parts of Python's `sys` module with easy explanations and fresh examples."
   ]
  },
  {
   "cell_type": "code",
   "execution_count": 1,
   "id": "8026b94e",
   "metadata": {},
   "outputs": [],
   "source": [
    "import sys"
   ]
  },
  {
   "cell_type": "markdown",
   "id": "8f816545",
   "metadata": {},
   "source": [
    "## 🔹 1. `sys.version` — Check Python Version\n",
    "This gives you the version of Python that is currently running."
   ]
  },
  {
   "cell_type": "code",
   "execution_count": 2,
   "id": "aa842d95",
   "metadata": {},
   "outputs": [
    {
     "name": "stdout",
     "output_type": "stream",
     "text": [
      "Current Python version: 3.13.3 (v3.13.3:6280bb54784, Apr  8 2025, 10:47:54) [Clang 15.0.0 (clang-1500.3.9.4)]\n"
     ]
    }
   ],
   "source": [
    "print(\"Current Python version:\", sys.version)"
   ]
  },
  {
   "cell_type": "markdown",
   "id": "92bb23b3",
   "metadata": {},
   "source": [
    "## 🔹 2. `sys.argv` — Command Line Arguments\n",
    "Used to read arguments passed when running the script from the command line."
   ]
  },
  {
   "cell_type": "code",
   "execution_count": 3,
   "id": "0f31d12f",
   "metadata": {},
   "outputs": [
    {
     "name": "stdout",
     "output_type": "stream",
     "text": [
      "Total Arguments: 2\n",
      "Argument List: ['/Users/Manas/Library/Python/3.13/lib/python/site-packages/ipykernel_launcher.py', '--f=/Users/Manas/Library/Jupyter/runtime/kernel-v369d858008476705b8297eb27fb3f8d9b3563c7d4.json']\n"
     ]
    }
   ],
   "source": [
    "print(\"Total Arguments:\", len(sys.argv))\n",
    "print(\"Argument List:\", sys.argv)\n",
    "\n",
    "# You can test this in terminal like:\n",
    "# python your_script.py arg1 arg2"
   ]
  },
  {
   "cell_type": "markdown",
   "id": "7bff41a5",
   "metadata": {},
   "source": [
    "## 🔹 3. `sys.exit()` — Exit the Program\n",
    "Used to stop the program manually. Nothing after `sys.exit()` will run."
   ]
  },
  {
   "cell_type": "code",
   "execution_count": 4,
   "id": "e3a8e57a",
   "metadata": {},
   "outputs": [
    {
     "name": "stdout",
     "output_type": "stream",
     "text": [
      "Before exit\n"
     ]
    },
    {
     "ename": "SystemExit",
     "evalue": "Exiting now",
     "output_type": "error",
     "traceback": [
      "An exception has occurred, use %tb to see the full traceback.\n",
      "\u001b[31mSystemExit\u001b[39m\u001b[31m:\u001b[39m Exiting now\n"
     ]
    },
    {
     "name": "stderr",
     "output_type": "stream",
     "text": [
      "/Users/Manas/Library/Python/3.13/lib/python/site-packages/IPython/core/interactiveshell.py:3707: UserWarning: To exit: use 'exit', 'quit', or Ctrl-D.\n",
      "  warn(\"To exit: use 'exit', 'quit', or Ctrl-D.\", stacklevel=1)\n"
     ]
    }
   ],
   "source": [
    "print(\"Before exit\")\n",
    "sys.exit(\"Exiting now\")\n",
    "print(\"This will not be printed\")"
   ]
  },
  {
   "cell_type": "markdown",
   "id": "424245ef",
   "metadata": {},
   "source": [
    "## 🔹 4. `sys.path` — View and Modify Module Search Paths\n",
    "This shows all paths where Python looks for modules."
   ]
  },
  {
   "cell_type": "code",
   "execution_count": 5,
   "id": "0867b2de",
   "metadata": {},
   "outputs": [
    {
     "name": "stdout",
     "output_type": "stream",
     "text": [
      "1. /Library/Frameworks/Python.framework/Versions/3.13/lib/python313.zip\n",
      "2. /Library/Frameworks/Python.framework/Versions/3.13/lib/python3.13\n",
      "3. /Library/Frameworks/Python.framework/Versions/3.13/lib/python3.13/lib-dynload\n",
      "4. \n",
      "5. /Users/Manas/Library/Python/3.13/lib/python/site-packages\n",
      "6. /Library/Frameworks/Python.framework/Versions/3.13/lib/python3.13/site-packages\n"
     ]
    }
   ],
   "source": [
    "for index, path in enumerate(sys.path):\n",
    "    print(f\"{index+1}. {path}\")"
   ]
  },
  {
   "cell_type": "markdown",
   "id": "afb63eba",
   "metadata": {},
   "source": [
    "## 🔹 5. `sys.platform` — Check Operating System\n",
    "Gives the name of the platform (Windows, Linux, Mac)."
   ]
  },
  {
   "cell_type": "code",
   "execution_count": 6,
   "id": "6f24c589",
   "metadata": {},
   "outputs": [
    {
     "name": "stdout",
     "output_type": "stream",
     "text": [
      "Running on platform: darwin\n"
     ]
    }
   ],
   "source": [
    "print(\"Running on platform:\", sys.platform)"
   ]
  },
  {
   "cell_type": "markdown",
   "id": "0d370be3",
   "metadata": {},
   "source": [
    "## 🔹 6. `sys.stdin` — Custom Input Example\n",
    "Use this to read input manually (like from a file or custom stream)."
   ]
  },
  {
   "cell_type": "code",
   "execution_count": 7,
   "id": "3f4ae076",
   "metadata": {},
   "outputs": [
    {
     "name": "stdout",
     "output_type": "stream",
     "text": [
      "Enter your favorite movie:\n"
     ]
    },
    {
     "ename": "KeyboardInterrupt",
     "evalue": "",
     "output_type": "error",
     "traceback": [
      "\u001b[31m---------------------------------------------------------------------------\u001b[39m",
      "\u001b[31mKeyboardInterrupt\u001b[39m                         Traceback (most recent call last)",
      "\u001b[36mCell\u001b[39m\u001b[36m \u001b[39m\u001b[32mIn[7]\u001b[39m\u001b[32m, line 2\u001b[39m\n\u001b[32m      1\u001b[39m \u001b[38;5;28mprint\u001b[39m(\u001b[33m\"\u001b[39m\u001b[33mEnter your favorite movie:\u001b[39m\u001b[33m\"\u001b[39m)\n\u001b[32m----> \u001b[39m\u001b[32m2\u001b[39m fav_movie = \u001b[43msys\u001b[49m\u001b[43m.\u001b[49m\u001b[43mstdin\u001b[49m\u001b[43m.\u001b[49m\u001b[43mreadline\u001b[49m\u001b[43m(\u001b[49m\u001b[43m)\u001b[49m.strip()\n\u001b[32m      3\u001b[39m \u001b[38;5;28mprint\u001b[39m(\u001b[33m\"\u001b[39m\u001b[33mYou typed:\u001b[39m\u001b[33m\"\u001b[39m, fav_movie)\n",
      "\u001b[31mKeyboardInterrupt\u001b[39m: "
     ]
    }
   ],
   "source": [
    "print(\"Enter your favorite movie:\")\n",
    "fav_movie = sys.stdin.readline().strip()\n",
    "print(\"You typed:\", fav_movie)"
   ]
  },
  {
   "cell_type": "markdown",
   "id": "5e9c8936",
   "metadata": {},
   "source": [
    "## 🔹 7. `sys.stdout` — Custom Output Stream\n",
    "Sends output using the sys stdout stream."
   ]
  },
  {
   "cell_type": "code",
   "execution_count": 8,
   "id": "56d42b0b",
   "metadata": {},
   "outputs": [
    {
     "name": "stdout",
     "output_type": "stream",
     "text": [
      "Printed using sys.stdout\n"
     ]
    },
    {
     "data": {
      "text/plain": [
       "25"
      ]
     },
     "execution_count": 8,
     "metadata": {},
     "output_type": "execute_result"
    }
   ],
   "source": [
    "sys.stdout.write(\"Printed using sys.stdout\\n\")"
   ]
  },
  {
   "cell_type": "markdown",
   "id": "6cf2e093",
   "metadata": {},
   "source": [
    "## 🔹 8. `sys.stderr` — Error Output Example\n",
    "Useful to display error messages."
   ]
  },
  {
   "cell_type": "code",
   "execution_count": 9,
   "id": "d0c10910",
   "metadata": {},
   "outputs": [
    {
     "name": "stderr",
     "output_type": "stream",
     "text": [
      "This is an error message!\n"
     ]
    },
    {
     "data": {
      "text/plain": [
       "26"
      ]
     },
     "execution_count": 9,
     "metadata": {},
     "output_type": "execute_result"
    }
   ],
   "source": [
    "sys.stderr.write(\"This is an error message!\\n\")"
   ]
  },
  {
   "cell_type": "markdown",
   "id": "2cfaff7a",
   "metadata": {},
   "source": [
    "## 🔹 9. `sys.getsizeof()` — Memory Usage in Bytes\n",
    "Shows how much memory a Python object uses."
   ]
  },
  {
   "cell_type": "code",
   "execution_count": 10,
   "id": "9860fe46",
   "metadata": {},
   "outputs": [
    {
     "name": "stdout",
     "output_type": "stream",
     "text": [
      "Memory used by my_list: 856 bytes\n",
      "Memory used by text: 51 bytes\n"
     ]
    }
   ],
   "source": [
    "my_list = list(range(100))\n",
    "print(\"Memory used by my_list:\", sys.getsizeof(my_list), \"bytes\")\n",
    "\n",
    "text = \"Hello GPT!\"\n",
    "print(\"Memory used by text:\", sys.getsizeof(text), \"bytes\")"
   ]
  },
  {
   "cell_type": "markdown",
   "id": "8cdd098d",
   "metadata": {},
   "source": [
    "## 🔹 10. `sys.getrecursionlimit()` and `sys.setrecursionlimit()`\n",
    "Used to control how deep Python will go into recursive function calls."
   ]
  },
  {
   "cell_type": "code",
   "execution_count": 11,
   "id": "8961a223",
   "metadata": {},
   "outputs": [
    {
     "name": "stdout",
     "output_type": "stream",
     "text": [
      "Current recursion limit: 3000\n",
      "New recursion limit: 2000\n"
     ]
    }
   ],
   "source": [
    "print(\"Current recursion limit:\", sys.getrecursionlimit())\n",
    "sys.setrecursionlimit(2000)\n",
    "print(\"New recursion limit:\", sys.getrecursionlimit())"
   ]
  }
 ],
 "metadata": {
  "kernelspec": {
   "display_name": "Python 3",
   "language": "python",
   "name": "python3"
  },
  "language_info": {
   "codemirror_mode": {
    "name": "ipython",
    "version": 3
   },
   "file_extension": ".py",
   "mimetype": "text/x-python",
   "name": "python",
   "nbconvert_exporter": "python",
   "pygments_lexer": "ipython3",
   "version": "3.13.3"
  }
 },
 "nbformat": 4,
 "nbformat_minor": 5
}
