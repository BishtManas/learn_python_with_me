{
 "cells": [
  {
   "cell_type": "markdown",
   "id": "d55a91ce",
   "metadata": {},
   "source": [
    "# 📘`datetime` Examples in Python\n",
    "These examples are specially designed for **complete beginners** to understand how to use Python's `datetime` module with **real-world simple use cases**."
   ]
  },
  {
   "cell_type": "markdown",
   "id": "92678d82",
   "metadata": {},
   "source": [
    "## 🧒 Example 1: Show Today's Date in a Friendly Way\n",
    "This code shows today's date in a nice and readable format like 'Today is 01 August 2025'."
   ]
  },
  {
   "cell_type": "code",
   "execution_count": 1,
   "id": "80a6ac0d",
   "metadata": {},
   "outputs": [
    {
     "name": "stdout",
     "output_type": "stream",
     "text": [
      "Today is 01 August 2025\n"
     ]
    }
   ],
   "source": [
    "\n",
    "from datetime import date\n",
    "\n",
    "today = date.today()\n",
    "print(\"Today is\", today.strftime(\"%d %B %Y\"))\n"
   ]
  },
  {
   "cell_type": "markdown",
   "id": "c53caecb",
   "metadata": {},
   "source": [
    "## 🎂 Example 2: How Many Days Until My Birthday?\n",
    "This program asks your birthday and tells you how many days are left."
   ]
  },
  {
   "cell_type": "code",
   "execution_count": 2,
   "id": "ac93d157",
   "metadata": {},
   "outputs": [
    {
     "name": "stdout",
     "output_type": "stream",
     "text": [
      "Your birthday is in 272 days!\n"
     ]
    }
   ],
   "source": [
    "\n",
    "from datetime import datetime, timedelta\n",
    "\n",
    "# Ask birthday (only month and day)\n",
    "birth_month = int(input(\"Enter your birth month (1-12): \"))\n",
    "birth_day = int(input(\"Enter your birth day (1-31): \"))\n",
    "\n",
    "today = datetime.today()\n",
    "this_year_birthday = datetime(today.year, birth_month, birth_day)\n",
    "\n",
    "# If birthday already passed this year, take next year's birthday\n",
    "if this_year_birthday < today:\n",
    "    this_year_birthday = datetime(today.year + 1, birth_month, birth_day)\n",
    "\n",
    "days_left = (this_year_birthday - today).days\n",
    "\n",
    "print(f\"Your birthday is in {days_left} days!\")\n"
   ]
  },
  {
   "cell_type": "markdown",
   "id": "ea7b3a00",
   "metadata": {},
   "source": [
    "## ⏰ Example 3: What Time is it Now?\n",
    "This just shows the current time in hours and minutes."
   ]
  },
  {
   "cell_type": "code",
   "execution_count": 3,
   "id": "5767185f",
   "metadata": {},
   "outputs": [
    {
     "name": "stdout",
     "output_type": "stream",
     "text": [
      "Current time: 10:49 AM\n"
     ]
    }
   ],
   "source": [
    "\n",
    "from datetime import datetime\n",
    "\n",
    "now = datetime.now()\n",
    "print(\"Current time:\", now.strftime(\"%I:%M %p\"))\n"
   ]
  },
  {
   "cell_type": "markdown",
   "id": "b8d4b498",
   "metadata": {},
   "source": [
    "## 📅 Example 4: Print the Date After 30 Days\n",
    "Imagine you're renting something for 30 days. This tells the return date."
   ]
  },
  {
   "cell_type": "code",
   "execution_count": 4,
   "id": "8cacb711",
   "metadata": {},
   "outputs": [
    {
     "name": "stdout",
     "output_type": "stream",
     "text": [
      "If you borrow something today, return it by: 31 August 2025\n"
     ]
    }
   ],
   "source": [
    "\n",
    "from datetime import date, timedelta\n",
    "\n",
    "today = date.today()\n",
    "return_date = today + timedelta(days=30)\n",
    "\n",
    "print(\"If you borrow something today, return it by:\", return_date.strftime(\"%d %B %Y\"))\n"
   ]
  },
  {
   "cell_type": "markdown",
   "id": "cd47a6d1",
   "metadata": {},
   "source": [
    "## 🧮 Example 5: Difference Between Two Dates\n",
    "This helps find how many days are between two dates. Useful for leave calculation."
   ]
  },
  {
   "cell_type": "code",
   "execution_count": 5,
   "id": "9c13cf46",
   "metadata": {},
   "outputs": [
    {
     "name": "stdout",
     "output_type": "stream",
     "text": [
      "Total days between: 6886\n"
     ]
    }
   ],
   "source": [
    "\n",
    "from datetime import datetime\n",
    "\n",
    "start = input(\"Enter start date (YYYY-MM-DD): \")\n",
    "end = input(\"Enter end date (YYYY-MM-DD): \")\n",
    "\n",
    "start_date = datetime.strptime(start, \"%Y-%m-%d\")\n",
    "end_date = datetime.strptime(end, \"%Y-%m-%d\")\n",
    "\n",
    "difference = end_date - start_date\n",
    "\n",
    "print(\"Total days between:\", difference.days)\n"
   ]
  }
 ],
 "metadata": {
  "kernelspec": {
   "display_name": "Python 3",
   "language": "python",
   "name": "python3"
  },
  "language_info": {
   "codemirror_mode": {
    "name": "ipython",
    "version": 3
   },
   "file_extension": ".py",
   "mimetype": "text/x-python",
   "name": "python",
   "nbconvert_exporter": "python",
   "pygments_lexer": "ipython3",
   "version": "3.13.3"
  }
 },
 "nbformat": 4,
 "nbformat_minor": 5
}
