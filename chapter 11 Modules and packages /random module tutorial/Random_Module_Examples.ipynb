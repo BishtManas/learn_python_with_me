{
 "cells": [
  {
   "cell_type": "markdown",
   "id": "ad9897c1",
   "metadata": {},
   "source": [
    "# 🌀 Python `random` Module – Beginner Notebook"
   ]
  },
  {
   "cell_type": "markdown",
   "id": "60fd6bb6",
   "metadata": {},
   "source": [
    "## 🔹 Step 1: Importing the `random` Module"
   ]
  },
  {
   "cell_type": "code",
   "execution_count": 1,
   "id": "4eae9f1d",
   "metadata": {},
   "outputs": [],
   "source": [
    "import random"
   ]
  },
  {
   "cell_type": "markdown",
   "id": "415950cb",
   "metadata": {},
   "source": [
    "## 🔹 `random.random()` - Get float between 0.0 and 1.0"
   ]
  },
  {
   "cell_type": "code",
   "execution_count": 2,
   "id": "0098d50f",
   "metadata": {},
   "outputs": [
    {
     "name": "stdout",
     "output_type": "stream",
     "text": [
      "0.014717376979818564\n"
     ]
    }
   ],
   "source": [
    "print(random.random())  # Try running this multiple times!"
   ]
  },
  {
   "cell_type": "markdown",
   "id": "e613cd91",
   "metadata": {},
   "source": [
    "## 🔹 `random.uniform(a, b)` - Float between a and b"
   ]
  },
  {
   "cell_type": "code",
   "execution_count": 3,
   "id": "b5c669e7",
   "metadata": {},
   "outputs": [
    {
     "name": "stdout",
     "output_type": "stream",
     "text": [
      "10.90226671839025\n"
     ]
    }
   ],
   "source": [
    "print(random.uniform(5, 15))"
   ]
  },
  {
   "cell_type": "markdown",
   "id": "8e3da01b",
   "metadata": {},
   "source": [
    "## 🔹 `random.randint(a, b)` - Integer between a and b (inclusive)"
   ]
  },
  {
   "cell_type": "code",
   "execution_count": 4,
   "id": "714c5d33",
   "metadata": {},
   "outputs": [
    {
     "name": "stdout",
     "output_type": "stream",
     "text": [
      "4\n"
     ]
    }
   ],
   "source": [
    "print(random.randint(1, 100))"
   ]
  },
  {
   "cell_type": "markdown",
   "id": "f8365898",
   "metadata": {},
   "source": [
    "## 🔹 `random.randrange(start, stop, step)` - Random from range"
   ]
  },
  {
   "cell_type": "code",
   "execution_count": 5,
   "id": "3994b716",
   "metadata": {},
   "outputs": [
    {
     "name": "stdout",
     "output_type": "stream",
     "text": [
      "25\n"
     ]
    }
   ],
   "source": [
    "print(random.randrange(10, 50, 5))"
   ]
  },
  {
   "cell_type": "markdown",
   "id": "e0285bb6",
   "metadata": {},
   "source": [
    "## 🔹 `random.choice(seq)` - Pick one item randomly"
   ]
  },
  {
   "cell_type": "code",
   "execution_count": 6,
   "id": "fb2c9989",
   "metadata": {},
   "outputs": [
    {
     "name": "stdout",
     "output_type": "stream",
     "text": [
      "yellow\n"
     ]
    }
   ],
   "source": [
    "colors = ['red', 'green', 'blue', 'yellow']\n",
    "print(random.choice(colors))"
   ]
  },
  {
   "cell_type": "markdown",
   "id": "f28c12c1",
   "metadata": {},
   "source": [
    "## 🔹 `random.choices(seq, k=n)` - Pick multiple (with repetition)"
   ]
  },
  {
   "cell_type": "code",
   "execution_count": 7,
   "id": "e9ca245f",
   "metadata": {},
   "outputs": [
    {
     "name": "stdout",
     "output_type": "stream",
     "text": [
      "['blue', 'green', 'blue']\n"
     ]
    }
   ],
   "source": [
    "print(random.choices(colors, k=3))"
   ]
  },
  {
   "cell_type": "markdown",
   "id": "b4bf339e",
   "metadata": {},
   "source": [
    "## 🔹 `random.sample(seq, k=n)` - Pick multiple (no repetition)"
   ]
  },
  {
   "cell_type": "code",
   "execution_count": 8,
   "id": "01ef1156",
   "metadata": {},
   "outputs": [
    {
     "name": "stdout",
     "output_type": "stream",
     "text": [
      "['yellow', 'blue', 'green']\n"
     ]
    }
   ],
   "source": [
    "print(random.sample(colors, k=3))"
   ]
  },
  {
   "cell_type": "markdown",
   "id": "242c4b9e",
   "metadata": {},
   "source": [
    "## 🔹 `random.shuffle(list)` - Shuffle list items"
   ]
  },
  {
   "cell_type": "code",
   "execution_count": 9,
   "id": "3833ffce",
   "metadata": {},
   "outputs": [
    {
     "name": "stdout",
     "output_type": "stream",
     "text": [
      "[3, 1, 4, 2, 5]\n"
     ]
    }
   ],
   "source": [
    "nums = [1, 2, 3, 4, 5]\n",
    "random.shuffle(nums)\n",
    "print(nums)"
   ]
  },
  {
   "cell_type": "markdown",
   "id": "7c5097ca",
   "metadata": {},
   "source": [
    "## 🔹 `random.seed(value)` - Reproducible results"
   ]
  },
  {
   "cell_type": "code",
   "execution_count": 10,
   "id": "19962cf3",
   "metadata": {},
   "outputs": [
    {
     "name": "stdout",
     "output_type": "stream",
     "text": [
      "0.6394267984578837\n"
     ]
    }
   ],
   "source": [
    "random.seed(42)\n",
    "print(random.random())"
   ]
  },
  {
   "cell_type": "markdown",
   "id": "de8653da",
   "metadata": {},
   "source": [
    "## 🧪 Extra Practice Examples"
   ]
  },
  {
   "cell_type": "markdown",
   "id": "0b930606",
   "metadata": {},
   "source": [
    "### 🎲 Coin Toss Simulator"
   ]
  },
  {
   "cell_type": "code",
   "execution_count": 11,
   "id": "0999ad8c",
   "metadata": {},
   "outputs": [
    {
     "name": "stdout",
     "output_type": "stream",
     "text": [
      "Coin says: Heads\n"
     ]
    }
   ],
   "source": [
    "outcome = random.choice(['Heads', 'Tails'])\n",
    "print('Coin says:', outcome)"
   ]
  },
  {
   "cell_type": "markdown",
   "id": "433f9643",
   "metadata": {},
   "source": [
    "### 🔐 Random Password Generator"
   ]
  },
  {
   "cell_type": "code",
   "execution_count": 12,
   "id": "d8e0247d",
   "metadata": {},
   "outputs": [
    {
     "name": "stdout",
     "output_type": "stream",
     "text": [
      "Generated password: (xnj(Z3civ\n"
     ]
    }
   ],
   "source": [
    "import string\n",
    "chars = string.ascii_letters + string.digits + string.punctuation\n",
    "password = ''.join(random.choices(chars, k=10))\n",
    "print('Generated password:', password)\n"
   ]
  },
  {
   "cell_type": "markdown",
   "id": "b9fd9ceb",
   "metadata": {},
   "source": [
    "### ❓ Random Quiz Question Order"
   ]
  },
  {
   "cell_type": "code",
   "execution_count": 13,
   "id": "424498fa",
   "metadata": {},
   "outputs": [
    {
     "name": "stdout",
     "output_type": "stream",
     "text": [
      "Q2: What is a loop?\n",
      "Q1: What is Python?\n",
      "Q3: What is a variable?\n"
     ]
    }
   ],
   "source": [
    "questions = ['Q1: What is Python?', 'Q2: What is a loop?', 'Q3: What is a variable?']\n",
    "random.shuffle(questions)\n",
    "for q in questions:\n",
    "    print(q)\n"
   ]
  }
 ],
 "metadata": {
  "kernelspec": {
   "display_name": "Python 3",
   "language": "python",
   "name": "python3"
  },
  "language_info": {
   "codemirror_mode": {
    "name": "ipython",
    "version": 3
   },
   "file_extension": ".py",
   "mimetype": "text/x-python",
   "name": "python",
   "nbconvert_exporter": "python",
   "pygments_lexer": "ipython3",
   "version": "3.13.3"
  }
 },
 "nbformat": 4,
 "nbformat_minor": 5
}
