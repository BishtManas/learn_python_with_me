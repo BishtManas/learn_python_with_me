{
 "cells": [
  {
   "cell_type": "markdown",
   "id": "5f29ea7d",
   "metadata": {},
   "source": [
    "# 🧠 Python OOPs (Object-Oriented Programming)."
   ]
  },
  {
   "cell_type": "markdown",
   "id": "75c74bc3",
   "metadata": {},
   "source": [
    "## 📌 What is OOP?\n",
    "\n",
    "OOP (Object-Oriented Programming) is a way of writing code that organizes data and actions (functions) into **objects**.\n",
    "\n",
    "Think of **objects** like real-world things — for example, a **car** has properties like color, brand, speed (called *attributes*) and it can perform actions like drive, brake (called *methods*)."
   ]
  },
  {
   "cell_type": "markdown",
   "id": "52c5179b",
   "metadata": {},
   "source": [
    "## ⚙️ OOP Concepts in Python\n",
    "\n",
    "Python supports 4 main OOP concepts:\n",
    "\n",
    "| No. | Concept       | Meaning (Simple Words)                     |\n",
    "|-----|---------------|--------------------------------------------|\n",
    "| 1.  | Class         | A blueprint (template) to create objects   |\n",
    "| 2.  | Object        | A real instance (created from class)       |\n",
    "| 3.  | Inheritance   | One class can use another class’s features |\n",
    "| 4.  | Polymorphism  | One thing behaves in different ways        |\n",
    "| 5.  | Encapsulation | Hiding internal details from outside       |\n",
    "| 6.  | Abstraction   | Showing only important stuff, hiding rest  |"
   ]
  },
  {
   "cell_type": "markdown",
   "id": "e915f5b0",
   "metadata": {},
   "source": [
    "## 🧱 1. Class and Object\n",
    "\n",
    "### ✅ Class\n",
    "\n",
    "A **class** is like a template. It defines what data and behavior the objects will have."
   ]
  },
  {
   "cell_type": "code",
   "execution_count": 1,
   "id": "77f561c4",
   "metadata": {},
   "outputs": [],
   "source": [
    "class Student:\n",
    "    def __init__(self, name, age):\n",
    "        self.name = name  # Attribute\n",
    "        self.age = age\n",
    "\n",
    "    def greet(self):\n",
    "        print(f\"Hello, my name is {self.name}\")"
   ]
  },
  {
   "cell_type": "code",
   "execution_count": 2,
   "id": "d7d88d9c",
   "metadata": {},
   "outputs": [
    {
     "name": "stdout",
     "output_type": "stream",
     "text": [
      "Hello, my name is Rahul\n"
     ]
    }
   ],
   "source": [
    "s1 = Student(\"Rahul\", 20)\n",
    "s1.greet()  # Output: Hello, my name is Rahul"
   ]
  },
  {
   "cell_type": "markdown",
   "id": "b484abb2",
   "metadata": {},
   "source": [
    "## 🧠 What is `__init__`?\n",
    "\n",
    "* It's a **constructor**.\n",
    "* Automatically runs when object is created.\n",
    "* Used to set initial values."
   ]
  },
  {
   "cell_type": "markdown",
   "id": "758dfe19",
   "metadata": {},
   "source": [
    "## 🔐 2. Encapsulation\n",
    "\n",
    "Encapsulation means **hiding the internal details** and protecting data from outside interference.\n",
    "\n",
    "We use **private variables** (by using underscore `_` or `__`) to do this."
   ]
  },
  {
   "cell_type": "code",
   "execution_count": 3,
   "id": "8d860f6a",
   "metadata": {},
   "outputs": [
    {
     "name": "stdout",
     "output_type": "stream",
     "text": [
      "1500\n"
     ]
    }
   ],
   "source": [
    "class BankAccount:\n",
    "    def __init__(self, balance):\n",
    "        self.__balance = balance  # private variable\n",
    "\n",
    "    def deposit(self, amount):\n",
    "        self.__balance += amount\n",
    "\n",
    "    def get_balance(self):\n",
    "        return self.__balance\n",
    "\n",
    "acc = BankAccount(1000)\n",
    "acc.deposit(500)\n",
    "print(acc.get_balance())  # Output: 1500"
   ]
  },
  {
   "cell_type": "markdown",
   "id": "f337c2d4",
   "metadata": {},
   "source": [
    "## 🧬 3. Inheritance\n",
    "\n",
    "Inheritance means one class can **inherit** features from another class.\n",
    "\n",
    "### ✅ Example:"
   ]
  },
  {
   "cell_type": "code",
   "execution_count": 4,
   "id": "e6e36c58",
   "metadata": {},
   "outputs": [
    {
     "name": "stdout",
     "output_type": "stream",
     "text": [
      "Dog barks\n"
     ]
    }
   ],
   "source": [
    "class Animal:\n",
    "    def sound(self):\n",
    "        print(\"Animal makes sound\")\n",
    "\n",
    "class Dog(Animal):  # Dog inherits Animal\n",
    "    def sound(self):\n",
    "        print(\"Dog barks\")\n",
    "\n",
    "d = Dog()\n",
    "d.sound()  # Output: Dog barks"
   ]
  },
  {
   "cell_type": "markdown",
   "id": "3362010c",
   "metadata": {},
   "source": [
    "## 🔁 4. Polymorphism\n",
    "\n",
    "Polymorphism means **many forms** — same function name can behave differently depending on object."
   ]
  },
  {
   "cell_type": "code",
   "execution_count": 5,
   "id": "b31abe8f",
   "metadata": {},
   "outputs": [
    {
     "name": "stdout",
     "output_type": "stream",
     "text": [
      "Meow\n",
      "Moo\n"
     ]
    }
   ],
   "source": [
    "class Cat:\n",
    "    def sound(self):\n",
    "        print(\"Meow\")\n",
    "\n",
    "class Cow:\n",
    "    def sound(self):\n",
    "        print(\"Moo\")\n",
    "\n",
    "def animal_sound(animal):\n",
    "    animal.sound()\n",
    "\n",
    "c1 = Cat()\n",
    "c2 = Cow()\n",
    "\n",
    "animal_sound(c1)  # Meow\n",
    "animal_sound(c2)  # Moo"
   ]
  },
  {
   "cell_type": "markdown",
   "id": "4551fc52",
   "metadata": {},
   "source": [
    "## 🎭 5. Abstraction\n",
    "\n",
    "Abstraction means **hiding unnecessary details** and showing only essentials.\n",
    "\n",
    "We use **abstract classes** for this using `abc` module."
   ]
  },
  {
   "cell_type": "code",
   "execution_count": 6,
   "id": "9350a51b",
   "metadata": {},
   "outputs": [
    {
     "name": "stdout",
     "output_type": "stream",
     "text": [
      "Car started\n"
     ]
    }
   ],
   "source": [
    "from abc import ABC, abstractmethod\n",
    "\n",
    "class Vehicle(ABC):\n",
    "    @abstractmethod\n",
    "    def start(self):\n",
    "        pass\n",
    "\n",
    "class Car(Vehicle):\n",
    "    def start(self):\n",
    "        print(\"Car started\")\n",
    "\n",
    "c = Car()\n",
    "c.start()  # Output: Car started"
   ]
  },
  {
   "cell_type": "markdown",
   "id": "0462730a",
   "metadata": {},
   "source": [
    "## 👷‍♂️ Extra OOP Features in Python\n",
    "\n",
    "### 🔹 `self`\n",
    "\n",
    "* Refers to the current object.\n",
    "* Always used inside class methods."
   ]
  },
  {
   "cell_type": "code",
   "execution_count": 7,
   "id": "0ab4b060",
   "metadata": {},
   "outputs": [],
   "source": [
    "def show(self):\n",
    "    print(self.name)"
   ]
  },
  {
   "cell_type": "markdown",
   "id": "e1fab06e",
   "metadata": {},
   "source": [
    "### 🔹 `super()`\n",
    "\n",
    "* Used to call parent class methods."
   ]
  },
  {
   "cell_type": "code",
   "execution_count": 8,
   "id": "5dd95ff7",
   "metadata": {},
   "outputs": [
    {
     "name": "stdout",
     "output_type": "stream",
     "text": [
      "Hello from parent\n",
      "Hello from child\n"
     ]
    }
   ],
   "source": [
    "class Parent:\n",
    "    def greet(self):\n",
    "        print(\"Hello from parent\")\n",
    "\n",
    "class Child(Parent):\n",
    "    def greet(self):\n",
    "        super().greet()\n",
    "        print(\"Hello from child\")\n",
    "\n",
    "c = Child()\n",
    "c.greet()"
   ]
  },
  {
   "cell_type": "markdown",
   "id": "d3980542",
   "metadata": {},
   "source": [
    "## 📦 Types of Methods in Class\n",
    "\n",
    "| Type            | Description                               |\n",
    "|-----------------|-------------------------------------------|\n",
    "| Instance Method | Works on object (has `self`)              |\n",
    "| Class Method    | Works on class level (has `cls`)          |\n",
    "| Static Method   | No `self`, independent logic inside class |"
   ]
  },
  {
   "cell_type": "code",
   "execution_count": 9,
   "id": "b57c9151",
   "metadata": {},
   "outputs": [
    {
     "name": "stdout",
     "output_type": "stream",
     "text": [
      "Instance method\n",
      "Hello\n",
      "Class method\n"
     ]
    }
   ],
   "source": [
    "class Demo:\n",
    "    @staticmethod\n",
    "    def hello():\n",
    "        print(\"Hello\")\n",
    "\n",
    "    @classmethod\n",
    "    def info(cls):\n",
    "        print(\"Class method\")\n",
    "\n",
    "    def greet(self):\n",
    "        print(\"Instance method\")\n",
    "\n",
    "d = Demo()\n",
    "d.greet()\n",
    "Demo.hello()\n",
    "Demo.info()"
   ]
  },
  {
   "cell_type": "markdown",
   "id": "6c8e44e9",
   "metadata": {},
   "source": [
    "## 💬 Summary (OOP in Short)\n",
    "\n",
    "| OOP Concept   | Real-Life Example                         |\n",
    "|---------------|-------------------------------------------|\n",
    "| Class         | Blueprint of Car                          |\n",
    "| Object        | Real Car created from that blueprint      |\n",
    "| Encapsulation | Car engine hidden inside body             |\n",
    "| Inheritance   | SportsCar inherits Car features           |\n",
    "| Polymorphism  | Brake works differently in different cars |\n",
    "| Abstraction   | Driver sees only steering, not wiring     |"
   ]
  },
  {
   "cell_type": "markdown",
   "id": "d0b0d501",
   "metadata": {},
   "source": [
    "## ✅ Practice Ideas\n",
    "\n",
    "* Create a `Book` class with title, author, price\n",
    "* Create a `Calculator` class (add, subtract, multiply)\n",
    "* Make a `Shape` base class → `Circle` and `Rectangle` inherit and override `area()`"
   ]
  }
 ],
 "metadata": {
  "kernelspec": {
   "display_name": "Python 3",
   "language": "python",
   "name": "python3"
  },
  "language_info": {
   "codemirror_mode": {
    "name": "ipython",
    "version": 3
   },
   "file_extension": ".py",
   "mimetype": "text/x-python",
   "name": "python",
   "nbconvert_exporter": "python",
   "pygments_lexer": "ipython3",
   "version": "3.13.3"
  }
 },
 "nbformat": 4,
 "nbformat_minor": 5
}
