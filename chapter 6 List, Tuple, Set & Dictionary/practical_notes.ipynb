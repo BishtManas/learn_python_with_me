{
 "cells": [
  {
   "cell_type": "markdown",
   "id": "9c449f93",
   "metadata": {},
   "source": [
    "## 1️⃣ LIST\n",
    "\n",
    "### ✅ What is a List?\n",
    "\n",
    "* A list is an **ordered collection** of items\n",
    "* It is **mutable**, meaning we can change items\n",
    "* Allows **duplicate values**\n",
    "* Can store **different types** of data in one list\n",
    "\n",
    "### 🧪 Example:"
   ]
  },
  {
   "cell_type": "code",
   "execution_count": 1,
   "id": "c4ac0393",
   "metadata": {},
   "outputs": [
    {
     "data": {
      "text/plain": [
       "['apple', 'banana', 'mango', 'apple']"
      ]
     },
     "execution_count": 1,
     "metadata": {},
     "output_type": "execute_result"
    }
   ],
   "source": [
    "fruits = [\"apple\", \"banana\", \"mango\", \"apple\"]\n",
    "fruits # In jupyter notebook you can simply write the name of you variable it will automatically print."
   ]
  },
  {
   "cell_type": "markdown",
   "id": "5d525f16",
   "metadata": {},
   "source": [
    "### 🔧 Useful Operations:"
   ]
  },
  {
   "cell_type": "code",
   "execution_count": 2,
   "id": "0f204c01",
   "metadata": {},
   "outputs": [
    {
     "data": {
      "text/plain": [
       "['apple', 'banana', 'mango', 'apple', 'grape']"
      ]
     },
     "execution_count": 2,
     "metadata": {},
     "output_type": "execute_result"
    }
   ],
   "source": [
    "fruits.append(\"grape\")       # Add at the end\n",
    "fruits"
   ]
  },
  {
   "cell_type": "code",
   "execution_count": 3,
   "id": "66dfe738",
   "metadata": {},
   "outputs": [
    {
     "data": {
      "text/plain": [
       "['apple', 'orange', 'banana', 'mango', 'apple', 'grape']"
      ]
     },
     "execution_count": 3,
     "metadata": {},
     "output_type": "execute_result"
    }
   ],
   "source": [
    "fruits.insert(1, \"orange\")   # Add at index 1\n",
    "fruits"
   ]
  },
  {
   "cell_type": "code",
   "execution_count": 4,
   "id": "1b447c71",
   "metadata": {},
   "outputs": [
    {
     "data": {
      "text/plain": [
       "['apple', 'orange', 'mango', 'apple', 'grape']"
      ]
     },
     "execution_count": 4,
     "metadata": {},
     "output_type": "execute_result"
    }
   ],
   "source": [
    "fruits.remove(\"banana\")      # Remove first occurrence\n",
    "fruits"
   ]
  },
  {
   "cell_type": "code",
   "execution_count": 5,
   "id": "20598a00",
   "metadata": {},
   "outputs": [
    {
     "data": {
      "text/plain": [
       "['apple', 'orange', 'mango', 'apple']"
      ]
     },
     "execution_count": 5,
     "metadata": {},
     "output_type": "execute_result"
    }
   ],
   "source": [
    "fruits.pop()                 # Remove last item\n",
    "fruits"
   ]
  },
  {
   "cell_type": "code",
   "execution_count": 6,
   "id": "aade9fde",
   "metadata": {},
   "outputs": [
    {
     "data": {
      "text/plain": [
       "['apple', 'apple', 'mango', 'orange']"
      ]
     },
     "execution_count": 6,
     "metadata": {},
     "output_type": "execute_result"
    }
   ],
   "source": [
    "fruits.sort()                # Sort list (only same types)\n",
    "fruits"
   ]
  },
  {
   "cell_type": "code",
   "execution_count": 7,
   "id": "aed24a64",
   "metadata": {},
   "outputs": [],
   "source": [
    "fruits.reverse()             # Reverse the list\\"
   ]
  },
  {
   "cell_type": "code",
   "execution_count": 8,
   "id": "9c68f952",
   "metadata": {},
   "outputs": [
    {
     "data": {
      "text/plain": [
       "['orange', 'mango', 'apple', 'apple']"
      ]
     },
     "execution_count": 8,
     "metadata": {},
     "output_type": "execute_result"
    }
   ],
   "source": [
    "fruits # now this is new fruits list because list is mutable the methods affect on the original list."
   ]
  },
  {
   "cell_type": "markdown",
   "id": "44b37c61",
   "metadata": {},
   "source": [
    "### 🔁 Loop Through List:"
   ]
  },
  {
   "cell_type": "code",
   "execution_count": 9,
   "id": "679e5cc4",
   "metadata": {},
   "outputs": [
    {
     "name": "stdout",
     "output_type": "stream",
     "text": [
      "orange\n",
      "mango\n",
      "apple\n",
      "apple\n"
     ]
    }
   ],
   "source": [
    "for fruit in fruits:\n",
    "    print(fruit) # this helps to print fruits name one by one."
   ]
  },
  {
   "cell_type": "markdown",
   "id": "596a149e",
   "metadata": {},
   "source": [
    "## 2️⃣ TUPLE\n",
    "\n",
    "### ✅ What is a Tuple?\n",
    "\n",
    "* A tuple is an **ordered collection** of items\n",
    "* It is **immutable** (can’t change once created)\n",
    "* Allows **duplicates**\n",
    "* Good for **fixed data** like dates, coordinates, etc.\n",
    "\n",
    "### 🧪 Example:\n"
   ]
  },
  {
   "cell_type": "code",
   "execution_count": 10,
   "id": "5f0a5068",
   "metadata": {},
   "outputs": [],
   "source": [
    "dimensions = (1920, 1080) # tuples are created by these brackets\"()\".\n",
    "# > ✅ You can’t modify `dimensions` tuple once it's created."
   ]
  },
  {
   "cell_type": "markdown",
   "id": "a64e59aa",
   "metadata": {},
   "source": [
    "### 🧠 Single-item Tuple:"
   ]
  },
  {
   "cell_type": "code",
   "execution_count": 11,
   "id": "fafa370f",
   "metadata": {},
   "outputs": [
    {
     "data": {
      "text/plain": [
       "('python',)"
      ]
     },
     "execution_count": 11,
     "metadata": {},
     "output_type": "execute_result"
    }
   ],
   "source": [
    "single_value = (\"python\",)  # Comma is required\n",
    "single_value # this give the element present in the tuple."
   ]
  },
  {
   "cell_type": "markdown",
   "id": "c405dc30",
   "metadata": {},
   "source": [
    "### 🔁 Loop Through Tuple:"
   ]
  },
  {
   "cell_type": "code",
   "execution_count": 12,
   "id": "acafe7a3",
   "metadata": {},
   "outputs": [
    {
     "name": "stdout",
     "output_type": "stream",
     "text": [
      "1920\n",
      "1080\n"
     ]
    }
   ],
   "source": [
    "for dim in dimensions:\n",
    "    print(dim) # this will give all elements one by one."
   ]
  },
  {
   "cell_type": "markdown",
   "id": "d4761996",
   "metadata": {},
   "source": [
    "## 3️⃣ SET\n",
    "\n",
    "### ✅ What is a Set?\n",
    "\n",
    "* A set is an **unordered collection** of **unique** items\n",
    "* It is **mutable** (can be changed)\n",
    "* Automatically removes **duplicates**\n",
    "* Best used when you need **unique values**\n",
    "\n",
    "### 🧪 Example:"
   ]
  },
  {
   "cell_type": "code",
   "execution_count": 13,
   "id": "19f67a6b",
   "metadata": {},
   "outputs": [
    {
     "data": {
      "text/plain": [
       "{'blue', 'green', 'red'}"
      ]
     },
     "execution_count": 13,
     "metadata": {},
     "output_type": "execute_result"
    }
   ],
   "source": [
    "colors = {\"red\", \"green\", \"blue\", \"red\"}\n",
    "colors"
   ]
  },
  {
   "cell_type": "markdown",
   "id": "2c8df080",
   "metadata": {},
   "source": [
    "### ❗ Creating an Empty Set:"
   ]
  },
  {
   "cell_type": "code",
   "execution_count": 14,
   "id": "265a576f",
   "metadata": {},
   "outputs": [
    {
     "data": {
      "text/plain": [
       "set"
      ]
     },
     "execution_count": 14,
     "metadata": {},
     "output_type": "execute_result"
    }
   ],
   "source": [
    "empty_set = set()    # ✅ Correct\n",
    "empty_dict = {}      # ❌ This is a dictionary, not a set\n",
    "\n",
    "type(empty_set)"
   ]
  },
  {
   "cell_type": "code",
   "execution_count": 15,
   "id": "f9bc514e",
   "metadata": {},
   "outputs": [
    {
     "data": {
      "text/plain": [
       "dict"
      ]
     },
     "execution_count": 15,
     "metadata": {},
     "output_type": "execute_result"
    }
   ],
   "source": [
    "type(empty_dict)"
   ]
  },
  {
   "cell_type": "markdown",
   "id": "fc263216",
   "metadata": {},
   "source": [
    "### 🔧 Set Operations:"
   ]
  },
  {
   "cell_type": "code",
   "execution_count": 16,
   "id": "5f543fa1",
   "metadata": {},
   "outputs": [
    {
     "data": {
      "text/plain": [
       "{'blue', 'green', 'red', 'yellow'}"
      ]
     },
     "execution_count": 16,
     "metadata": {},
     "output_type": "execute_result"
    }
   ],
   "source": [
    "colors.add(\"yellow\")\n",
    "colors"
   ]
  },
  {
   "cell_type": "code",
   "execution_count": 17,
   "id": "46f2b6d2",
   "metadata": {},
   "outputs": [
    {
     "data": {
      "text/plain": [
       "{'blue', 'red', 'yellow'}"
      ]
     },
     "execution_count": 17,
     "metadata": {},
     "output_type": "execute_result"
    }
   ],
   "source": [
    "colors.discard(\"green\") # Removes if present, no error if not\n",
    "colors"
   ]
  },
  {
   "cell_type": "code",
   "execution_count": 18,
   "id": "64c039d6",
   "metadata": {},
   "outputs": [
    {
     "data": {
      "text/plain": [
       "{'red', 'yellow'}"
      ]
     },
     "execution_count": 18,
     "metadata": {},
     "output_type": "execute_result"
    }
   ],
   "source": [
    "colors.remove(\"blue\") # Removes, gives error if not found\n",
    "colors"
   ]
  },
  {
   "cell_type": "code",
   "execution_count": 19,
   "id": "a1a10cc7",
   "metadata": {},
   "outputs": [
    {
     "data": {
      "text/plain": [
       "set()"
      ]
     },
     "execution_count": 19,
     "metadata": {},
     "output_type": "execute_result"
    }
   ],
   "source": [
    "colors.clear() # Empty the set\n",
    "colors"
   ]
  },
  {
   "cell_type": "markdown",
   "id": "8943f282",
   "metadata": {},
   "source": [
    "### 🔁 Set Math:"
   ]
  },
  {
   "cell_type": "code",
   "execution_count": 20,
   "id": "588a4048",
   "metadata": {},
   "outputs": [],
   "source": [
    "a = {1, 2, 3}"
   ]
  },
  {
   "cell_type": "code",
   "execution_count": 21,
   "id": "b3ec41c7",
   "metadata": {},
   "outputs": [],
   "source": [
    "b = {3, 4, 5}"
   ]
  },
  {
   "cell_type": "code",
   "execution_count": 22,
   "id": "989c9bd3",
   "metadata": {},
   "outputs": [
    {
     "name": "stdout",
     "output_type": "stream",
     "text": [
      "{1, 2, 3, 4, 5}\n"
     ]
    }
   ],
   "source": [
    "print(a | b)     # Union → {1, 2, 3, 4, 5}"
   ]
  },
  {
   "cell_type": "code",
   "execution_count": 23,
   "id": "e4cb195f",
   "metadata": {},
   "outputs": [
    {
     "name": "stdout",
     "output_type": "stream",
     "text": [
      "{3}\n"
     ]
    }
   ],
   "source": [
    "print(a & b)     # Intersection → {3}"
   ]
  },
  {
   "cell_type": "code",
   "execution_count": 24,
   "id": "a955c727",
   "metadata": {},
   "outputs": [
    {
     "name": "stdout",
     "output_type": "stream",
     "text": [
      "{1, 2}\n"
     ]
    }
   ],
   "source": [
    "print(a - b)     # Difference → {1, 2}"
   ]
  },
  {
   "cell_type": "code",
   "execution_count": 25,
   "id": "96aa0a6b",
   "metadata": {},
   "outputs": [
    {
     "name": "stdout",
     "output_type": "stream",
     "text": [
      "{1, 2, 4, 5}\n"
     ]
    }
   ],
   "source": [
    "print(a ^ b)     # Symmetric Difference → {1, 2, 4, 5}"
   ]
  },
  {
   "cell_type": "markdown",
   "id": "08c8b6d3",
   "metadata": {},
   "source": [
    "## 4️⃣ DICTIONARY\n",
    "\n",
    "### ✅ What is a Dictionary?\n",
    "\n",
    "* A dictionary is a collection of **key-value pairs**\n",
    "* It is **unordered** (before Python 3.7)\n",
    "* Keys must be **unique**\n",
    "* Values can be anything (numbers, strings, lists, etc.)\n",
    "\n",
    "### 🧪 Example:"
   ]
  },
  {
   "cell_type": "code",
   "execution_count": 26,
   "id": "a4b86b00",
   "metadata": {},
   "outputs": [
    {
     "data": {
      "text/plain": [
       "{'name': 'Rahul', 'age': 20, 'subjects': ['Math', 'Science']}"
      ]
     },
     "execution_count": 26,
     "metadata": {},
     "output_type": "execute_result"
    }
   ],
   "source": [
    "student = {\n",
    "    \"name\": \"Rahul\",\n",
    "    \"age\": 20,\n",
    "    \"subjects\": [\"Math\", \"Science\"]\n",
    "}\n",
    "student"
   ]
  },
  {
   "cell_type": "markdown",
   "id": "b463b409",
   "metadata": {},
   "source": [
    "### 🔁 Loop Through Dictionary:"
   ]
  },
  {
   "cell_type": "code",
   "execution_count": 27,
   "id": "40044306",
   "metadata": {},
   "outputs": [
    {
     "name": "stdout",
     "output_type": "stream",
     "text": [
      "name → Rahul\n",
      "age → 20\n",
      "subjects → ['Math', 'Science']\n"
     ]
    }
   ],
   "source": [
    "for key, value in student.items():\n",
    "    print(f\"{key} → {value}\")"
   ]
  },
  {
   "cell_type": "markdown",
   "id": "08aa4c6a",
   "metadata": {},
   "source": [
    "### 🔧 Access / Modify:"
   ]
  },
  {
   "cell_type": "code",
   "execution_count": 28,
   "id": "396c576c",
   "metadata": {},
   "outputs": [
    {
     "name": "stdout",
     "output_type": "stream",
     "text": [
      "Rahul\n"
     ]
    }
   ],
   "source": [
    "print(student[\"name\"])           # Access value\n",
    "student[\"age\"] = 21              # Update value\n",
    "student[\"grade\"] = \"A\"           # Add new key-value"
   ]
  },
  {
   "cell_type": "code",
   "execution_count": 29,
   "id": "cf1bd8e0",
   "metadata": {},
   "outputs": [
    {
     "data": {
      "text/plain": [
       "{'name': 'Rahul', 'age': 21, 'subjects': ['Math', 'Science'], 'grade': 'A'}"
      ]
     },
     "execution_count": 29,
     "metadata": {},
     "output_type": "execute_result"
    }
   ],
   "source": [
    "student # now this is a updated dictionary"
   ]
  },
  {
   "cell_type": "markdown",
   "id": "34606bce",
   "metadata": {},
   "source": [
    "### 🧹 Remove Data:"
   ]
  },
  {
   "cell_type": "code",
   "execution_count": 30,
   "id": "a0805a6d",
   "metadata": {},
   "outputs": [
    {
     "data": {
      "text/plain": [
       "{'name': 'Rahul', 'age': 21, 'subjects': ['Math', 'Science']}"
      ]
     },
     "execution_count": 30,
     "metadata": {},
     "output_type": "execute_result"
    }
   ],
   "source": [
    "student.pop(\"grade\")\n",
    "student"
   ]
  },
  {
   "cell_type": "code",
   "execution_count": 31,
   "id": "2e9a0d38",
   "metadata": {},
   "outputs": [
    {
     "data": {
      "text/plain": [
       "{'name': 'Rahul', 'subjects': ['Math', 'Science']}"
      ]
     },
     "execution_count": 31,
     "metadata": {},
     "output_type": "execute_result"
    }
   ],
   "source": [
    "del student[\"age\"]\n",
    "student"
   ]
  },
  {
   "cell_type": "code",
   "execution_count": 32,
   "id": "21391a72",
   "metadata": {},
   "outputs": [
    {
     "data": {
      "text/plain": [
       "{}"
      ]
     },
     "execution_count": 32,
     "metadata": {},
     "output_type": "execute_result"
    }
   ],
   "source": [
    "student.clear()                  # Empty dictionary\n",
    "student"
   ]
  },
  {
   "cell_type": "markdown",
   "id": "7babbe40",
   "metadata": {},
   "source": [
    "## 📌 Summary Table – Quick Compare\n",
    "\n",
    "| Feature           | List  | Tuple | Set            | Dictionary       |\n",
    "| ----------------- | ----- | ----- | -------------- | ---------------- |\n",
    "| Ordered           | ✅ Yes | ✅ Yes | ❌ No           | ✅ (Python 3.7+)  |\n",
    "| Mutable           | ✅ Yes | ❌ No  | ✅ Yes          | ✅ Yes            |\n",
    "| Allows Duplicates | ✅ Yes | ✅ Yes | ❌ No           | ❌ Keys, ✅ Values |\n",
    "| Indexed           | ✅ Yes | ✅ Yes | ❌ No           | ✅ (by key)       |\n",
    "| Syntax            | `[]`  | `()`  | `{}` / `set()` | `{key: value}`   |"
   ]
  }
 ],
 "metadata": {
  "kernelspec": {
   "display_name": "Python 3",
   "language": "python",
   "name": "python3"
  },
  "language_info": {
   "codemirror_mode": {
    "name": "ipython",
    "version": 3
   },
   "file_extension": ".py",
   "mimetype": "text/x-python",
   "name": "python",
   "nbconvert_exporter": "python",
   "pygments_lexer": "ipython3",
   "version": "3.13.5"
  }
 },
 "nbformat": 4,
 "nbformat_minor": 5
}
