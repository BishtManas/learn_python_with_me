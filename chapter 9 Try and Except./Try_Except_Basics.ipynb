{
 "cells": [
  {
   "cell_type": "markdown",
   "id": "dcfd8ae7",
   "metadata": {},
   "source": [
    "# 🛡️ `try` and `except` in Python"
   ]
  },
  {
   "cell_type": "markdown",
   "id": "b4fe281f",
   "metadata": {},
   "source": [
    "## ✅ Why Do We Use `try-except`?\n",
    "\n",
    "When your Python program runs into an error (like dividing by zero or opening a missing file), it **crashes**.\n",
    "\n",
    "To **avoid crashing**, we use `try-except` to **handle errors** smoothly."
   ]
  },
  {
   "cell_type": "markdown",
   "id": "076a3413",
   "metadata": {},
   "source": [
    "## 🧠 Basic Syntax:"
   ]
  },
  {
   "cell_type": "code",
   "execution_count": 1,
   "id": "feab88e6",
   "metadata": {},
   "outputs": [],
   "source": [
    "#try:\n",
    "    # code that might cause an error\n",
    "#except:\n",
    "    # code that runs if error happens"
   ]
  },
  {
   "cell_type": "markdown",
   "id": "ee3ba3b0",
   "metadata": {},
   "source": [
    "## 💥 Example: Divide by Zero"
   ]
  },
  {
   "cell_type": "code",
   "execution_count": 2,
   "id": "4784ba2f",
   "metadata": {},
   "outputs": [
    {
     "name": "stdout",
     "output_type": "stream",
     "text": [
      "Error happened! You can't divide by zero.\n"
     ]
    }
   ],
   "source": [
    "try:\n",
    "    a = 5 / 0\n",
    "except:\n",
    "    print(\"Error happened! You can't divide by zero.\")"
   ]
  },
  {
   "cell_type": "markdown",
   "id": "817b2e9d",
   "metadata": {},
   "source": [
    "## 🔍 Catching Specific Errors\n",
    "\n",
    "You can catch **specific types** of errors to make your program smarter."
   ]
  },
  {
   "cell_type": "code",
   "execution_count": 3,
   "id": "8a8b7d98",
   "metadata": {},
   "outputs": [
    {
     "name": "stdout",
     "output_type": "stream",
     "text": [
      "You gave an invalid number!\n"
     ]
    }
   ],
   "source": [
    "try:\n",
    "    num = int(\"hello\")  # trying to convert string to number\n",
    "except ValueError:\n",
    "    print(\"You gave an invalid number!\")"
   ]
  },
  {
   "cell_type": "markdown",
   "id": "658f80b3",
   "metadata": {},
   "source": [
    "## 🎯 Common Error Types\n",
    "\n",
    "| Error Name          | Happens When...                            |\n",
    "|---------------------|---------------------------------------------|\n",
    "| `ZeroDivisionError` | Dividing by 0                               |\n",
    "| `ValueError`        | Invalid value (like `int(\"abc\")`)           |\n",
    "| `FileNotFoundError` | File doesn’t exist                          |\n",
    "| `TypeError`         | Wrong data type in operation                |\n",
    "| `IndexError`        | Accessing wrong index in list               |\n",
    "| `KeyError`          | Accessing missing key in dictionary         |\n"
   ]
  },
  {
   "cell_type": "markdown",
   "id": "4db5ccfc",
   "metadata": {},
   "source": [
    "## 🧪 Multiple `except` Blocks\n",
    "\n",
    "You can handle different types of errors **differently**:"
   ]
  },
  {
   "cell_type": "code",
   "execution_count": 4,
   "id": "f09cf3a4",
   "metadata": {},
   "outputs": [
    {
     "name": "stdout",
     "output_type": "stream",
     "text": [
      "Value error occurred\n"
     ]
    }
   ],
   "source": [
    "try:\n",
    "    x = int(\"abc\")\n",
    "    y = 10 / 0\n",
    "except ValueError:\n",
    "    print(\"Value error occurred\")\n",
    "except ZeroDivisionError:\n",
    "    print(\"Can't divide by zero\")"
   ]
  },
  {
   "cell_type": "markdown",
   "id": "097da729",
   "metadata": {},
   "source": [
    "## 🔁 `else` with `try-except`\n",
    "\n",
    "If no error happens, `else` block runs."
   ]
  },
  {
   "cell_type": "code",
   "execution_count": 5,
   "id": "ce06835e",
   "metadata": {},
   "outputs": [
    {
     "name": "stdout",
     "output_type": "stream",
     "text": [
      "No error here\n",
      "Everything went well!\n"
     ]
    }
   ],
   "source": [
    "try:\n",
    "    print(\"No error here\")\n",
    "except:\n",
    "    print(\"Some error\")\n",
    "else:\n",
    "    print(\"Everything went well!\")"
   ]
  },
  {
   "cell_type": "markdown",
   "id": "16e0e6ad",
   "metadata": {},
   "source": [
    "## 🔚 `finally` Block\n",
    "\n",
    "Code inside `finally` **always runs**, whether there’s an error or not.\n",
    "\n",
    "Useful for cleaning up tasks (closing file, etc.)"
   ]
  },
  {
   "cell_type": "code",
   "execution_count": 6,
   "id": "c788484d",
   "metadata": {},
   "outputs": [
    {
     "name": "stdout",
     "output_type": "stream",
     "text": [
      "This runs no matter what\n"
     ]
    }
   ],
   "source": [
    "try:\n",
    "    a = 10 / 2\n",
    "except:\n",
    "    print(\"Error happened\")\n",
    "finally:\n",
    "    print(\"This runs no matter what\")"
   ]
  },
  {
   "cell_type": "markdown",
   "id": "0ec66434",
   "metadata": {},
   "source": [
    "## 📁 Real Life Example: Reading a File"
   ]
  },
  {
   "cell_type": "code",
   "execution_count": 7,
   "id": "70659e3c",
   "metadata": {},
   "outputs": [
    {
     "name": "stdout",
     "output_type": "stream",
     "text": [
      "File not found.\n",
      "Closing program.\n"
     ]
    }
   ],
   "source": [
    "try:\n",
    "    f = open(\"data.txt\")\n",
    "    content = f.read()\n",
    "    print(content)\n",
    "except FileNotFoundError:\n",
    "    print(\"File not found.\")\n",
    "finally:\n",
    "    print(\"Closing program.\")"
   ]
  },
  {
   "cell_type": "markdown",
   "id": "42e1a719",
   "metadata": {},
   "source": [
    "## ✅ Summary\n",
    "\n",
    "| Keyword   | What It Does          |\n",
    "|-----------|-----------------------|\n",
    "| `try`     | Code that might break |\n",
    "| `except`  | Handles the error     |\n",
    "| `else`    | Runs if no error      |\n",
    "| `finally` | Always runs           |"
   ]
  },
  {
   "cell_type": "markdown",
   "id": "8a335189",
   "metadata": {},
   "source": [
    "## ✅ Practice Task for You\n",
    "\n",
    "Try this code and change the values to test:"
   ]
  },
  {
   "cell_type": "code",
   "execution_count": 9,
   "id": "fe9ed023",
   "metadata": {},
   "outputs": [
    {
     "name": "stdout",
     "output_type": "stream",
     "text": [
      "You entered: 78\n",
      "Input checking done.\n"
     ]
    }
   ],
   "source": [
    "try:\n",
    "    marks = int(input(\"Enter your marks: \"))\n",
    "    print(\"You entered:\", marks)\n",
    "except ValueError:\n",
    "    print(\"Please enter a valid number!\")\n",
    "finally:\n",
    "    print(\"Input checking done.\")"
   ]
  }
 ],
 "metadata": {
  "kernelspec": {
   "display_name": "Python 3",
   "language": "python",
   "name": "python3"
  },
  "language_info": {
   "codemirror_mode": {
    "name": "ipython",
    "version": 3
   },
   "file_extension": ".py",
   "mimetype": "text/x-python",
   "name": "python",
   "nbconvert_exporter": "python",
   "pygments_lexer": "ipython3",
   "version": "3.13.3"
  }
 },
 "nbformat": 4,
 "nbformat_minor": 5
}
