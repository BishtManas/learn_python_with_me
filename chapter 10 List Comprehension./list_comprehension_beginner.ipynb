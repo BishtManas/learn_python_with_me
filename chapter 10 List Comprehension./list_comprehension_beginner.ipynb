{
  "cells": [
    {
      "cell_type": "markdown",
      "metadata": {},
      "source": [
        "# ⚡ Python List Comprehension.\n",
        "---\n",
        "\n",
        "List comprehension is a **shorter and cleaner** way to create lists using a single line of code.\n",
        "\n",
        "Instead of using a full `for` loop to build a list, you write it in **one simple line**.\n",
        "\n",
        "It's very useful when you want to create a new list by transforming or filtering another list."
      ]
    },
    {
      "cell_type": "markdown",
      "metadata": {},
      "source": [
        "## 🔁 Regular Way vs List Comprehension"
      ]
    },
    {
      "cell_type": "code",
      "execution_count": 1,
      "metadata": {},
      "outputs": [
        {
          "name": "stdout",
          "output_type": "stream",
          "text": [
            "[1, 4, 9, 16, 25]\n"
          ]
        }
      ],
      "source": [
        "# 🔹 Regular Way\n",
        "squares = []\n",
        "for i in range(1, 6):\n",
        "    squares.append(i * i)\n",
        "print(squares)"
      ]
    },
    {
      "cell_type": "code",
      "execution_count": 2,
      "metadata": {},
      "outputs": [
        {
          "name": "stdout",
          "output_type": "stream",
          "text": [
            "[1, 4, 9, 16, 25]\n"
          ]
        }
      ],
      "source": [
        "# 🔹 With List Comprehension\n",
        "squares = [i * i for i in range(1, 6)]\n",
        "print(squares)"
      ]
    },
    {
      "cell_type": "markdown",
      "metadata": {},
      "source": [
        "## 🧠 Syntax of List Comprehension\n",
        "\n",
        "`[expression for item in iterable if condition]`\n",
        "\n",
        "- `expression`: What you want to do with each item\n",
        "- `item`: Temporary variable like `i`\n",
        "- `iterable`: Anything you can loop through like a `range()` or list\n",
        "- `if condition` (optional): Only include items that match the condition"
      ]
    },
    {
      "cell_type": "markdown",
      "metadata": {},
      "source": [
        "## ✅ 1. Create a Simple List\n",
        "\n",
        "Create a list of numbers from 0 to 4"
      ]
    },
    {
      "cell_type": "code",
      "execution_count": 3,
      "metadata": {},
      "outputs": [
        {
          "name": "stdout",
          "output_type": "stream",
          "text": [
            "[0, 1, 2, 3, 4]\n"
          ]
        }
      ],
      "source": [
        "nums = [i for i in range(5)]\n",
        "print(nums)  # Output: [0, 1, 2, 3, 4]"
      ]
    },
    {
      "cell_type": "markdown",
      "metadata": {},
      "source": [
        "## ✅ 2. Create a List of Squares\n",
        "\n",
        "Square of each number from 0 to 5"
      ]
    },
    {
      "cell_type": "code",
      "execution_count": 4,
      "metadata": {},
      "outputs": [
        {
          "name": "stdout",
          "output_type": "stream",
          "text": [
            "[0, 1, 4, 9, 16, 25]\n"
          ]
        }
      ],
      "source": [
        "squares = [x * x for x in range(6)]\n",
        "print(squares)  # Output: [0, 1, 4, 9, 16, 25]"
      ]
    },
    {
      "cell_type": "markdown",
      "metadata": {},
      "source": [
        "## ✅ 3. Even Numbers Only\n",
        "\n",
        "Filter out only even numbers from 0 to 9"
      ]
    },
    {
      "cell_type": "code",
      "execution_count": 5,
      "metadata": {},
      "outputs": [
        {
          "name": "stdout",
          "output_type": "stream",
          "text": [
            "[0, 2, 4, 6, 8]\n"
          ]
        }
      ],
      "source": [
        "evens = [x for x in range(10) if x % 2 == 0]\n",
        "print(evens)  # Output: [0, 2, 4, 6, 8]"
      ]
    },
    {
      "cell_type": "markdown",
      "metadata": {},
      "source": [
        "## ✅ 4. Convert Strings to Uppercase\n",
        "\n",
        "Use `.upper()` to change every name to uppercase"
      ]
    },
    {
      "cell_type": "code",
      "execution_count": 6,
      "metadata": {},
      "outputs": [
        {
          "name": "stdout",
          "output_type": "stream",
          "text": [
            "['ALICE', 'BOB', 'CHARLIE']\n"
          ]
        }
      ],
      "source": [
        "names = [\"alice\", \"bob\", \"charlie\"]\n",
        "upper_names = [name.upper() for name in names]\n",
        "print(upper_names)  # Output: ['ALICE', 'BOB', 'CHARLIE']"
      ]
    },
    {
      "cell_type": "markdown",
      "metadata": {},
      "source": [
        "## ✅ 5. Remove Vowels from Text"
      ]
    },
    {
      "cell_type": "code",
      "execution_count": 7,
      "metadata": {},
      "outputs": [
        {
          "name": "stdout",
          "output_type": "stream",
          "text": [
            "pythn s pwrfl\n"
          ]
        }
      ],
      "source": [
        "text = \"python is powerful\"\n",
        "no_vowels = [ch for ch in text if ch not in \"aeiou\"]\n",
        "print(\"\".join(no_vowels))  # Output: pythn s pwrfl"
      ]
    },
    {
      "cell_type": "markdown",
      "metadata": {},
      "source": [
        "## ✅ 6. Using If-Else in List Comprehension"
      ]
    },
    {
      "cell_type": "code",
      "execution_count": 8,
      "metadata": {},
      "outputs": [
        {
          "name": "stdout",
          "output_type": "stream",
          "text": [
            "['even', 'odd', 'even', 'odd', 'even']\n"
          ]
        }
      ],
      "source": [
        "result = [\"even\" if i % 2 == 0 else \"odd\" for i in range(5)]\n",
        "print(result)  # Output: ['even', 'odd', 'even', 'odd', 'even']"
      ]
    },
    {
      "cell_type": "markdown",
      "metadata": {},
      "source": [
        "## 💡 Practice Challenge\n",
        "\n",
        "Try these on your own:\n",
        "\n",
        "1. Create a list of all multiples of 7 from 1 to 100\n",
        "2. Convert `['apple', 'banana', 'cherry']` into uppercase\n",
        "3. Create a list of square roots of all even numbers from 1 to 20"
      ]
    }
  ],
  "metadata": {
    "kernelspec": {
      "display_name": "base",
      "language": "python",
      "name": "python3"
    },
    "language_info": {
      "codemirror_mode": {
        "name": "ipython",
        "version": 3
      },
      "file_extension": ".py",
      "mimetype": "text/x-python",
      "name": "python",
      "nbconvert_exporter": "python",
      "pygments_lexer": "ipython3",
      "version": "3.11.7"
    }
  },
  "nbformat": 4,
  "nbformat_minor": 5
}
