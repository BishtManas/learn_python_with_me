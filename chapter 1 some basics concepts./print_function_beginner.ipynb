{
  "cells": [
    {
      "cell_type": "markdown",
      "metadata": {},
      "source": [
        "# 🧠 Topic: `print()` Function in Python \n",
        "---\n",
        "\n",
        "The `print()` function is one of the most basic and most important functions in Python.\n",
        "\n",
        "👉 It is used to **display output** (text, numbers, variables, results of calculations, etc.) on the screen (console).\n",
        "\n",
        "Let's understand it step by step with examples, just like you're learning for the first time!"
      ]
    },
    {
      "cell_type": "markdown",
      "metadata": {},
      "source": [
        "## 📍 Example 1: Printing Text (String)\n",
        "\n",
        "You can print text (words or sentences) using double quotes `\"\"` or single quotes `''`."
      ]
    },
    {
      "cell_type": "code",
      "execution_count": 1,
      "metadata": {},
      "outputs": [
        {
          "name": "stdout",
          "output_type": "stream",
          "text": [
            "Hello, world!\n"
          ]
        }
      ],
      "source": [
        "print(\"Hello, world!\")  # This will show: Hello, world!"
      ]
    },
    {
      "cell_type": "markdown",
      "metadata": {},
      "source": [
        "## 📍 Example 2: Printing Numbers\n",
        "\n",
        "You can directly print numbers as well."
      ]
    },
    {
      "cell_type": "code",
      "execution_count": 2,
      "metadata": {},
      "outputs": [
        {
          "name": "stdout",
          "output_type": "stream",
          "text": [
            "10\n"
          ]
        }
      ],
      "source": [
        "print(10)  # Output: 10"
      ]
    },
    {
      "cell_type": "markdown",
      "metadata": {},
      "source": [
        "## 📍 Example 3: Print Result of a Calculation\n",
        "\n",
        "Python can also do math and show the result."
      ]
    },
    {
      "cell_type": "code",
      "execution_count": 3,
      "metadata": {},
      "outputs": [
        {
          "name": "stdout",
          "output_type": "stream",
          "text": [
            "8\n"
          ]
        }
      ],
      "source": [
        "print(5 + 3)  # Output: 8"
      ]
    },
    {
      "cell_type": "markdown",
      "metadata": {},
      "source": [
        "## 📍 Example 4: Print Multiple Items Together\n",
        "\n",
        "You can print multiple values separated by commas. Python adds space between them by default."
      ]
    },
    {
      "cell_type": "code",
      "execution_count": 4,
      "metadata": {},
      "outputs": [
        {
          "name": "stdout",
          "output_type": "stream",
          "text": [
            "My age is 18\n"
          ]
        }
      ],
      "source": [
        "print(\"My age is\", 18)  # Output: My age is 18"
      ]
    },
    {
      "cell_type": "markdown",
      "metadata": {},
      "source": [
        "## 📍 Example 5: Using Variables with `print()`\n",
        "\n",
        "Variables are used to store data. You can use them in `print()` to display values dynamically."
      ]
    },
    {
      "cell_type": "code",
      "execution_count": 5,
      "metadata": {},
      "outputs": [
        {
          "name": "stdout",
          "output_type": "stream",
          "text": [
            "My name is Sir and I am 18 years old.\n"
          ]
        }
      ],
      "source": [
        "name = \"Sir\"\n",
        "age = 18\n",
        "print(\"My name is\", name, \"and I am\", age, \"years old.\")"
      ]
    },
    {
      "cell_type": "markdown",
      "metadata": {},
      "source": [
        "## 📍 Special Characters: Escape Sequences\n",
        "\n",
        "Some characters like `\\n` and `\\t` help format your output better.\n",
        "\n",
        "- `\\n` means new line\n",
        "- `\\t` means tab space"
      ]
    },
    {
      "cell_type": "code",
      "execution_count": 6,
      "metadata": {},
      "outputs": [
        {
          "name": "stdout",
          "output_type": "stream",
          "text": [
            "First line\n",
            "Second line\n",
            "Name:\tSir\n"
          ]
        }
      ],
      "source": [
        "print(\"First line\\nSecond line\")\n",
        "print(\"Name:\\tSir\")"
      ]
    },
    {
      "cell_type": "markdown",
      "metadata": {},
      "source": [
        "## 📍 Blank `print()` adds an empty line\n",
        "\n",
        "You can use it to add space between lines in your output."
      ]
    },
    {
      "cell_type": "code",
      "execution_count": 7,
      "metadata": {},
      "outputs": [
        {
          "name": "stdout",
          "output_type": "stream",
          "text": [
            "\n",
            "This is after a blank line.\n"
          ]
        }
      ],
      "source": [
        "print()\n",
        "print(\"This is after a blank line.\")"
      ]
    },
    {
      "cell_type": "markdown",
      "metadata": {},
      "source": [
        "## 📍 Final Example (Summary)\n",
        "\n",
        "Let's revise everything we've learned with a small program."
      ]
    },
    {
      "cell_type": "code",
      "execution_count": 8,
      "metadata": {},
      "outputs": [
        {
          "name": "stdout",
          "output_type": "stream",
          "text": [
            "Summary:\n",
            "Name: Sir\n",
            "Age: 18\n",
            "Learning: Python Basics\n"
          ]
        }
      ],
      "source": [
        "print(\"Summary:\")\n",
        "print(\"Name:\", name)\n",
        "print(\"Age:\", age)\n",
        "print(\"Learning: Python Basics\")"
      ]
    },
    {
      "cell_type": "markdown",
      "metadata": {},
      "source": [
        "## ❌ Common Error: Adding string and number directly\n",
        "\n",
        "You cannot add a number and string directly. It will give an error."
      ]
    },
    {
      "cell_type": "code",
      "execution_count": 9,
      "metadata": {},
      "outputs": [],
      "source": [
        "a = 12\n",
        "b = \"Manas\"\n",
        "# print(a + b)  # ❌ This gives: TypeError"
      ]
    },
    {
      "cell_type": "markdown",
      "metadata": {},
      "source": [
        "## ✅ Correct Way: Convert number to string before adding\n",
        "\n",
        "Use `str()` to convert number into string before joining with another string."
      ]
    },
    {
      "cell_type": "code",
      "execution_count": 10,
      "metadata": {},
      "outputs": [
        {
          "name": "stdout",
          "output_type": "stream",
          "text": [
            "12Manas\n"
          ]
        }
      ],
      "source": [
        "c = str(a)\n",
        "print(c + b)  # Output: 12Manas"
      ]
    }
  ],
  "metadata": {
    "kernelspec": {
      "display_name": "base",
      "language": "python",
      "name": "python3"
    },
    "language_info": {
      "codemirror_mode": {
        "name": "ipython",
        "version": 3
      },
      "file_extension": ".py",
      "mimetype": "text/x-python",
      "name": "python",
      "nbconvert_exporter": "python",
      "pygments_lexer": "ipython3",
      "version": "3.11.7"
    }
  },
  "nbformat": 4,
  "nbformat_minor": 5
}
