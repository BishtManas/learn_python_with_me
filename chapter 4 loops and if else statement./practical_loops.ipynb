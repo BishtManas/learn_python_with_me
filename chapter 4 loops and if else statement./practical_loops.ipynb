{
 "cells": [
  {
   "cell_type": "markdown",
   "id": "35ce0b77",
   "metadata": {},
   "source": [
    "# 🔁 **Python Loops: for, while, break, continue & else**\n",
    "**In Python, loops help us repeat code. Let's understand how `for` and `while` loops work with clear examples.**\n"
   ]
  },
  {
   "cell_type": "markdown",
   "id": "1f3f06b4",
   "metadata": {},
   "source": [
    "## 🔂 1️⃣ For Loop in Python\n",
    "A `for` loop is used to iterate (go through) a sequence like list, string, range, etc."
   ]
  },
  {
   "cell_type": "code",
   "execution_count": 3,
   "id": "a3dbdefc",
   "metadata": {},
   "outputs": [
    {
     "name": "stdout",
     "output_type": "stream",
     "text": [
      "I like: apple\n",
      "I like: banana\n",
      "I like: cherry\n",
      "\n",
      "Letter: S\n",
      "Letter: N\n",
      "Letter: A\n",
      "Letter: I\n",
      "Letter: L\n",
      "\n",
      "Number: 0\n",
      "Number: 1\n",
      "Number: 2\n",
      "Number: 3\n",
      "Number: 4\n",
      "\n",
      "Range from 2: 2\n",
      "Range from 2: 3\n",
      "Range from 2: 4\n",
      "Range from 2: 5\n",
      "\n",
      "Step by 2: 1\n",
      "Step by 2: 3\n",
      "Step by 2: 5\n",
      "Step by 2: 7\n",
      "Step by 2: 9\n"
     ]
    }
   ],
   "source": [
    "# Looping through a list\n",
    "fruits = [\"apple\", \"banana\", \"cherry\"]\n",
    "for fruit in fruits:# you can print elements one by one.\n",
    "    print(\"I like:\", fruit)\n",
    "print()\n",
    "\n",
    "# Looping through a string\n",
    "name = \"SNAIL\"\n",
    "for letter in name:# you can print every letter one by one with the help of for loops.\n",
    "    print(\"Letter:\", letter)\n",
    "print()# This gives a empty line.\n",
    "\n",
    "# Using range()\n",
    "for i in range(5):  # Starts from 0 to 4 \n",
    "    print(\"Number:\", i)# you can also print number one by one.\n",
    "print()\n",
    "\n",
    "# Range with start and end\n",
    "for i in range(2, 6):  # 2 to 5\n",
    "    print(\"Range from 2:\", i)\n",
    "print()\n",
    "\n",
    "# Range with step\n",
    "for i in range(1, 10, 2):  # 1 to 9 with step of 2\n",
    "    print(\"Step by 2:\", i)"
   ]
  },
  {
   "cell_type": "markdown",
   "id": "71d7f428",
   "metadata": {},
   "source": [
    "## 🔁 2️⃣ While Loop in Python\n",
    "A `while` loop runs **as long as** a condition is `True`. It is used when we don’t know how many times to loop."
   ]
  },
  {
   "cell_type": "code",
   "execution_count": 5,
   "id": "3d47c379",
   "metadata": {},
   "outputs": [
    {
     "name": "stdout",
     "output_type": "stream",
     "text": [
      "Count is: 1\n",
      "Count is: 2\n",
      "Count is: 3\n",
      "Count is: 4\n",
      "Count is: 5\n",
      "\n",
      "Countdown: 5\n",
      "Countdown: 4\n",
      "Countdown: 3\n",
      "Countdown: 2\n",
      "Countdown: 1\n",
      "Liftoff! 🚀\n"
     ]
    }
   ],
   "source": [
    "# Basic while loop\n",
    "count = 1\n",
    "while count <= 5:# This loop runs until the condition becames false\n",
    "    print(\"Count is:\", count)\n",
    "    count += 1# This is for updating the value of count.\n",
    "print()\n",
    "\n",
    "# Countdown example\n",
    "n = 5\n",
    "while n > 0:# This is reverse timer.\n",
    "    print(\"Countdown:\", n)\n",
    "    n -= 1\n",
    "\n",
    "print(\"Liftoff! 🚀\")"
   ]
  },
  {
   "cell_type": "markdown",
   "id": "72633fb0",
   "metadata": {},
   "source": [
    "## ⛔ 3️⃣ Break and Continue\n",
    "- `break`: Exit the loop completely.\n",
    "- `continue`: Skip the current step and go to the next one."
   ]
  },
  {
   "cell_type": "code",
   "execution_count": 7,
   "id": "c120fc23",
   "metadata": {},
   "outputs": [
    {
     "name": "stdout",
     "output_type": "stream",
     "text": [
      "i = 0\n",
      "i = 1\n",
      "i = 2\n",
      "i = 3\n",
      "i = 4\n",
      "Breaking at: 5\n",
      "\n",
      "i = 0\n",
      "i = 1\n",
      "i = 2\n",
      "Skipping: 3\n",
      "i = 4\n",
      "i = 5\n"
     ]
    }
   ],
   "source": [
    "# Using break\n",
    "for i in range(10):\n",
    "    if i == 5:\n",
    "        print(\"Breaking at:\", i)# \"break\" stops the loop when the statement became true in this case when i = 5 then the loop stoped.\n",
    "        break\n",
    "    print(\"i =\", i)\n",
    "print()\n",
    "\n",
    "# Using continue\n",
    "for i in range(6):\n",
    "    if i == 3:\n",
    "        print(\"Skipping:\", i)# \"continue\" skips the value like in this case value \"3\" is skipped.\n",
    "        continue\n",
    "    print(\"i =\", i)\n"
   ]
  },
  {
   "cell_type": "markdown",
   "id": "ed2780aa",
   "metadata": {},
   "source": [
    "## 🎉 4️⃣ Loop with Else\n",
    "The `else` part in a loop runs **only when loop finishes normally (no break)**."
   ]
  },
  {
   "cell_type": "code",
   "execution_count": null,
   "id": "81d53118",
   "metadata": {},
   "outputs": [
    {
     "name": "stdout",
     "output_type": "stream",
     "text": [
      "0\n",
      "1\n",
      "2\n",
      "3\n",
      "4\n",
      "Loop finished normally.\n",
      "\n",
      "Inside loop: 0\n",
      "Inside loop: 1\n",
      "Inside loop: 2\n",
      "Breaking at: 3\n"
     ]
    }
   ],
   "source": [
    "# Example with for loop\n",
    "for i in range(5):\n",
    "    print(i)\n",
    "else:# else statement works only when the for loop runs completely.\n",
    "    print(\"Loop finished normally.\")\n",
    "print()#This is for an extra line.\n",
    "\n",
    "# Example with break\n",
    "for i in range(5):\n",
    "    \n",
    "    if i == 3:\n",
    "        print(\"Breaking at:\", i)\n",
    "        break\n",
    "\n",
    "    print(\"Inside loop:\", i)\n",
    "else:\n",
    "    print(\"This will not print because of break.\")\n"
   ]
  },
  {
   "cell_type": "markdown",
   "id": "03552672",
   "metadata": {},
   "source": [
    "## 📝 Summary of Loops\n",
    "\n",
    "| Type       | Description                            |\n",
    "|------------|----------------------------------------|\n",
    "| `for`      | Loop through list, string, range       |\n",
    "| `while`    | Run until a condition becomes False     |\n",
    "| `break`    | Exit the loop                          |\n",
    "| `continue` | Skip current iteration                 |\n",
    "| `else`     | Runs when loop finishes without break  |"
   ]
  }
 ],
 "metadata": {
  "kernelspec": {
   "display_name": "Python 3",
   "language": "python",
   "name": "python3"
  },
  "language_info": {
   "codemirror_mode": {
    "name": "ipython",
    "version": 3
   },
   "file_extension": ".py",
   "mimetype": "text/x-python",
   "name": "python",
   "nbconvert_exporter": "python",
   "pygments_lexer": "ipython3",
   "version": "3.13.5"
  }
 },
 "nbformat": 4,
 "nbformat_minor": 5
}
