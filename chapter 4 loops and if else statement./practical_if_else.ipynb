{
 "cells": [
  {
   "cell_type": "markdown",
   "id": "9f54be68",
   "metadata": {},
   "source": [
    "### **if, elif, else — The Basics of Decision Making**\n",
    "#### 🔥 **What is if-else?**\n",
    "**It lets Python make decisions.**\n",
    "**Like:**\n",
    "\n",
    "**“If it's raining, take an umbrella. Otherwise, go freely.”**"
   ]
  },
  {
   "cell_type": "code",
   "execution_count": 6,
   "id": "7b668d8d",
   "metadata": {},
   "outputs": [
    {
     "name": "stdout",
     "output_type": "stream",
     "text": [
      "✅ You are an adult.\n"
     ]
    }
   ],
   "source": [
    "# Basic if-else example\n",
    "age = 18\n",
    "\n",
    "if age >= 18:\n",
    "    print(\"✅ You are an adult.\")\n",
    "else:\n",
    "    print(\"❌ You are not an adult.\")"
   ]
  },
  {
   "cell_type": "markdown",
   "id": "621c5b22",
   "metadata": {},
   "source": [
    "## **Multiples conditions in if, elif and else.**"
   ]
  },
  {
   "cell_type": "code",
   "execution_count": 7,
   "id": "d9615213",
   "metadata": {},
   "outputs": [
    {
     "name": "stdout",
     "output_type": "stream",
     "text": [
      "😐 Grade C\n"
     ]
    }
   ],
   "source": [
    "# if-elif-else (multiple conditions)\n",
    "marks = 65\n",
    "\n",
    "if marks >= 90:\n",
    "    print(\"🏆 Grade A\")\n",
    "elif marks >= 75:\n",
    "    print(\"🙂 Grade B\")\n",
    "elif marks >= 50:\n",
    "    print(\"😐 Grade C\")\n",
    "else:\n",
    "    print(\"❌ You Failed\")"
   ]
  },
  {
   "cell_type": "markdown",
   "id": "6bb63f4c",
   "metadata": {},
   "source": [
    "## **positive negative or zero**"
   ]
  },
  {
   "cell_type": "code",
   "execution_count": 8,
   "id": "76b231d3",
   "metadata": {},
   "outputs": [
    {
     "name": "stdout",
     "output_type": "stream",
     "text": [
      "🟢 It's a positive number.\n"
     ]
    }
   ],
   "source": [
    "# Check if a number is positive, negative or zero\n",
    "num = 23\n",
    "\n",
    "if num > 0:\n",
    "    print(\"🟢 It's a positive number.\")\n",
    "elif num < 0:\n",
    "    print(\"🔴 It's a negative number.\")\n",
    "else:\n",
    "    print(\"⚪ It's zero.\")\n"
   ]
  },
  {
   "cell_type": "markdown",
   "id": "a2de8104",
   "metadata": {},
   "source": [
    "## **Driving License Check**"
   ]
  },
  {
   "cell_type": "code",
   "execution_count": 9,
   "id": "065d26a8",
   "metadata": {},
   "outputs": [
    {
     "name": "stdout",
     "output_type": "stream",
     "text": [
      "❌ You must be at least 18.\n"
     ]
    }
   ],
   "source": [
    "# Check driving license eligibility\n",
    "age = 17\n",
    "\n",
    "if age >= 18:\n",
    "    print(\"🚗 You are eligible for a driving license.\")\n",
    "else:\n",
    "    print(\"❌ You must be at least 18.\")\n"
   ]
  },
  {
   "cell_type": "markdown",
   "id": "4380015c",
   "metadata": {},
   "source": [
    "## **Nested if Statement**"
   ]
  },
  {
   "cell_type": "code",
   "execution_count": 10,
   "id": "0b16792b",
   "metadata": {},
   "outputs": [
    {
     "name": "stdout",
     "output_type": "stream",
     "text": [
      "✅ Login successful!\n"
     ]
    }
   ],
   "source": [
    "# Nested if (if inside another if)\n",
    "user = \"admin\"\n",
    "password = \"1234\"\n",
    "\n",
    "if user == \"admin\":\n",
    "    if password == \"1234\":\n",
    "        print(\"✅ Login successful!\")\n",
    "    else:\n",
    "        print(\"❌ Incorrect password!\")\n",
    "else:\n",
    "    print(\"⛔ Unknown user!\")\n"
   ]
  },
  {
   "cell_type": "markdown",
   "id": "ef3562d5",
   "metadata": {},
   "source": [
    "### 📌 Summary\n",
    "\n",
    "| Keyword | Meaning                        |\n",
    "|---------|--------------------------------|\n",
    "| `if`    | Runs code if condition is True |\n",
    "| `elif`  | Checks another condition        |\n",
    "| `else`  | Runs if no condition was True  |\n",
    "\n",
    "\n",
    "\n",
    "> 🧠 Tip: Only one `if` or `elif` block will run. Python stops at the first True.\n"
   ]
  }
 ],
 "metadata": {
  "kernelspec": {
   "display_name": "Python 3",
   "language": "python",
   "name": "python3"
  },
  "language_info": {
   "codemirror_mode": {
    "name": "ipython",
    "version": 3
   },
   "file_extension": ".py",
   "mimetype": "text/x-python",
   "name": "python",
   "nbconvert_exporter": "python",
   "pygments_lexer": "ipython3",
   "version": "3.13.5"
  }
 },
 "nbformat": 4,
 "nbformat_minor": 5
}
