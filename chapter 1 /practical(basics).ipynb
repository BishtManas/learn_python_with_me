{
 "cells": [
  {
   "cell_type": "markdown",
   "id": "8db23641",
   "metadata": {},
   "source": [
    "# 📚 Basic Python Knowledge\n",
    "## ✅ Print Something"
   ]
  },
  {
   "cell_type": "code",
   "execution_count": null,
   "id": "510eba74",
   "metadata": {},
   "outputs": [
    {
     "ename": "",
     "evalue": "",
     "output_type": "error",
     "traceback": [
      "\u001b[1;31mRunning cells with 'Python 3.11.13' requires the ipykernel package.\n",
      "\u001b[1;31m<a href='command:jupyter.createPythonEnvAndSelectController'>Create a Python Environment</a> with the required packages.\n",
      "\u001b[1;31mOr install 'ipykernel' using the command: '/bin/python3.11 -m pip install ipykernel -U --user --force-reinstall'"
     ]
    }
   ],
   "source": [
    "print(\"Manas Bisht\")# you can print anything with the help of print(\"your_content\")/print('your_name or another things') "
   ]
  },
  {
   "cell_type": "markdown",
   "id": "bd49a0c0",
   "metadata": {},
   "source": [
    "pr"
   ]
  }
 ],
 "metadata": {
  "kernelspec": {
   "display_name": "Python 3",
   "language": "python",
   "name": "python3"
  },
  "language_info": {
   "name": "python",
   "version": "3.11.13"
  }
 },
 "nbformat": 4,
 "nbformat_minor": 5
}
